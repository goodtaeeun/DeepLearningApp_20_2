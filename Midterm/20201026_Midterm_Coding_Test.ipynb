{
  "nbformat": 4,
  "nbformat_minor": 0,
  "metadata": {
    "colab": {
      "name": "20201026_Midterm_Coding_Test.ipynb",
      "provenance": [],
      "collapsed_sections": [],
      "toc_visible": true
    },
    "kernelspec": {
      "name": "python3",
      "display_name": "Python 3"
    }
  },
  "cells": [
    {
      "cell_type": "code",
      "metadata": {
        "id": "NoCXZH2k6ZgU"
      },
      "source": [
        "import numpy as np\n",
        "import sklearn as sk\n",
        "import pandas as pd\n",
        "\n",
        "import matplotlib.pyplot as plt\n",
        "from sklearn.model_selection import train_test_split"
      ],
      "execution_count": null,
      "outputs": []
    },
    {
      "cell_type": "markdown",
      "metadata": {
        "id": "bNOdEetVwEIA"
      },
      "source": [
        "### Upload 'new_train.csv' and 'new_test.csv' files into the Colab environment.\n",
        "\n",
        "0. Download 'new_train.csv' and 'new_test.csv' from HISNet to your computer.\n",
        "1. Run the code in the next cell.\n",
        "2. Click \"Select File(파일 선택)\" button.\n",
        "3. Select the two file(s) to upload."
      ]
    },
    {
      "cell_type": "code",
      "metadata": {
        "id": "QAYVMZQErWL_",
        "outputId": "ca7ae3b1-8a33-44d6-a586-8642d930e3df",
        "colab": {
          "resources": {
            "http://localhost:8080/nbextensions/google.colab/files.js": {
              "data": "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",
              "ok": true,
              "headers": [
                [
                  "content-type",
                  "application/javascript"
                ]
              ],
              "status": 200,
              "status_text": ""
            }
          },
          "base_uri": "https://localhost:8080/",
          "height": 148
        }
      },
      "source": [
        "from google.colab import files\n",
        "uploaded = files.upload()\n",
        "for fn in uploaded.keys():\n",
        "  print('User uploaded file \"{name}\" with length {length} bytes'.format(name=fn, length=len(uploaded[fn])))"
      ],
      "execution_count": null,
      "outputs": [
        {
          "output_type": "display_data",
          "data": {
            "text/html": [
              "\n",
              "     <input type=\"file\" id=\"files-91e363f7-cc27-42e6-a411-72afc4b5fe76\" name=\"files[]\" multiple disabled\n",
              "        style=\"border:none\" />\n",
              "     <output id=\"result-91e363f7-cc27-42e6-a411-72afc4b5fe76\">\n",
              "      Upload widget is only available when the cell has been executed in the\n",
              "      current browser session. Please rerun this cell to enable.\n",
              "      </output>\n",
              "      <script src=\"/nbextensions/google.colab/files.js\"></script> "
            ],
            "text/plain": [
              "<IPython.core.display.HTML object>"
            ]
          },
          "metadata": {
            "tags": []
          }
        },
        {
          "output_type": "stream",
          "text": [
            "Saving new_test.csv to new_test.csv\n",
            "Saving new_train.csv to new_train.csv\n",
            "User uploaded file \"new_test.csv\" with length 266935 bytes\n",
            "User uploaded file \"new_train.csv\" with length 799955 bytes\n"
          ],
          "name": "stdout"
        }
      ]
    },
    {
      "cell_type": "markdown",
      "metadata": {
        "id": "-s2-rjpkxBLt"
      },
      "source": [
        "### The following code displays the first few lines of the uploaded files."
      ]
    },
    {
      "cell_type": "code",
      "metadata": {
        "id": "FEW6zPlFys81",
        "outputId": "6eda57fa-e91c-40cc-f647-54b88187afb1",
        "colab": {
          "base_uri": "https://localhost:8080/",
          "height": 454
        }
      },
      "source": [
        "print(\"ls\")\n",
        "!ls\n",
        "print(\"The content of 'new_train.csv':\")\n",
        "!head 'new_train.csv'\n",
        "print(\"The content of 'new_test.csv':\")\n",
        "!head 'new_test.csv'"
      ],
      "execution_count": null,
      "outputs": [
        {
          "output_type": "stream",
          "text": [
            "ls\n",
            "new_test.csv  new_train.csv  sample_data\n",
            "The content of 'new_train.csv':\n",
            "feat1,feat2,feat3,feat4,feat5,feat6,feat7,feat8,target\n",
            "112.24,54.19,30,14.936,128.3,33.83333333,65.69,47.2,133.8\n",
            "153,54.4,38,18.2,190.1,37.63333333,65.53,46.3,160.2\n",
            "14.4,53.69,34,16.509,17.4,11.1,65.44,11.7,171.4\n",
            "30.02,53.64,28,31.917,33.7,17.16666667,65.43,22.6,146.8\n",
            "29.08,53.57,40,19.25,32.6,20.8,65.43,26.2,131\n",
            "27.74,53.63,58,33.438,23.6,22.36666667,65.42,23.9,148\n",
            "58.14,53.61,50,26.768,68,61.36666667,65.42,63.3,164.8\n",
            "16.24,54.83,82,17.083,16.8,12.5,65.41,15.8,97\n",
            "95.78,53.61,68,21.782,117.5,104.4666667,65.41,105.6,116.8\n",
            "The content of 'new_test.csv':\n",
            "feat1,feat2,feat3,feat4,feat5,feat6,feat7,feat8,target\n",
            "77.7,57.37,54,66.085,66.1,51.23333333,57.95,60.6,689.4\n",
            "30.2,54.26,86,35.99,31,26.96666667,61.7,27.7,353\n",
            "71.78,53.78,54,57.934,50.7,49.46666667,62.19,49.5,541\n",
            "1.34,53.82,56,61.359,1.5,1.633333333,61.64,1.1,660\n",
            "24.82,56.33,38,29.375,24.4,28.33333333,60.33,23.7,163.4\n",
            "20.36,56.51,74,16.635,21.3,22.1,60.44,20.4,134\n",
            "20.18,58.63,86,16.641,22.5,20.13333333,58.57,21.8,134\n",
            "46.2,55.48,38,32.25,47.1,44.7,59.35,44.1,333.8\n",
            "61.6,58.4,30,36.696,61.7,48.2,57.16,59.9,388.8\n"
          ],
          "name": "stdout"
        }
      ]
    },
    {
      "cell_type": "markdown",
      "metadata": {
        "id": "r5_-3YUmxSsH"
      },
      "source": [
        "# Problem 1: Load and observe data\n",
        "\n",
        "1. Load the two csv files.\n",
        "2. Display their count, mean, std, and the five-number summary (min, 25%, 50%, 75%, max).\n",
        "3. Draw histogram of each column.\n"
      ]
    },
    {
      "cell_type": "code",
      "metadata": {
        "id": "TFx4RM336pvN",
        "outputId": "19e27d29-a601-44db-bfea-c1bccb39183b",
        "colab": {
          "base_uri": "https://localhost:8080/",
          "height": 663
        }
      },
      "source": [
        "# training data\n",
        "\n",
        "\n"
      ],
      "execution_count": null,
      "outputs": [
        {
          "output_type": "stream",
          "text": [
            "              feat1         feat2  ...         feat8        target\n",
            "count  15000.000000  15000.000000  ...  15000.000000  15000.000000\n",
            "mean      53.462547     55.258635  ...     50.541040    405.465010\n",
            "std       44.881288      1.972927  ...     39.277951    226.712936\n",
            "min        0.040000     52.540000  ...      0.200000     29.998000\n",
            "25%       29.220000     53.890000  ...     28.100000    237.600000\n",
            "50%       42.620000     54.140000  ...     41.000000    352.000000\n",
            "75%       63.580000     57.320000  ...     60.700000    509.800000\n",
            "max      758.740000     61.860000  ...    608.200000   1000.002000\n",
            "\n",
            "[8 rows x 9 columns]\n"
          ],
          "name": "stdout"
        },
        {
          "output_type": "execute_result",
          "data": {
            "text/plain": [
              "array([[<matplotlib.axes._subplots.AxesSubplot object at 0x7f2ef2ba9e10>,\n",
              "        <matplotlib.axes._subplots.AxesSubplot object at 0x7f2ef2b120f0>,\n",
              "        <matplotlib.axes._subplots.AxesSubplot object at 0x7f2ef2ac5358>],\n",
              "       [<matplotlib.axes._subplots.AxesSubplot object at 0x7f2ef2a7a5c0>,\n",
              "        <matplotlib.axes._subplots.AxesSubplot object at 0x7f2ef2aad828>,\n",
              "        <matplotlib.axes._subplots.AxesSubplot object at 0x7f2ef2a60a90>],\n",
              "       [<matplotlib.axes._subplots.AxesSubplot object at 0x7f2ef2a13cf8>,\n",
              "        <matplotlib.axes._subplots.AxesSubplot object at 0x7f2ef29caf28>,\n",
              "        <matplotlib.axes._subplots.AxesSubplot object at 0x7f2ef29caf98>]],\n",
              "      dtype=object)"
            ]
          },
          "metadata": {
            "tags": []
          },
          "execution_count": 4
        },
        {
          "output_type": "display_data",
          "data": {
            "image/png": "[encoded data removed]",
            "text/plain": [
              "<Figure size 432x288 with 9 Axes>"
            ]
          },
          "metadata": {
            "tags": [],
            "needs_background": "light"
          }
        }
      ]
    },
    {
      "cell_type": "code",
      "metadata": {
        "id": "pd6Nniop7hP-",
        "outputId": "a4e8da81-41f0-486e-f39e-2a11c362a3c0",
        "colab": {
          "base_uri": "https://localhost:8080/",
          "height": 663
        }
      },
      "source": [
        "# test data\n",
        "\n",
        "\n"
      ],
      "execution_count": null,
      "outputs": [
        {
          "output_type": "stream",
          "text": [
            "             feat1        feat2  ...        feat8       target\n",
            "count  5000.000000  5000.000000  ...  5000.000000  5000.000000\n",
            "mean     50.576484    56.731094  ...    48.187060   440.266704\n",
            "std      39.105578     2.224819  ...    34.590825   241.995054\n",
            "min       0.120000    52.560000  ...     0.100000    29.998000\n",
            "25%      28.620000    54.120000  ...    27.700000   247.550000\n",
            "50%      42.080000    57.690000  ...    40.450000   386.400000\n",
            "75%      61.120000    58.000000  ...    59.100000   578.850000\n",
            "max     609.000000    61.950000  ...   493.000000  1000.002000\n",
            "\n",
            "[8 rows x 9 columns]\n"
          ],
          "name": "stdout"
        },
        {
          "output_type": "execute_result",
          "data": {
            "text/plain": [
              "array([[<matplotlib.axes._subplots.AxesSubplot object at 0x7f2ef2798b38>,\n",
              "        <matplotlib.axes._subplots.AxesSubplot object at 0x7f2ef29d6e48>,\n",
              "        <matplotlib.axes._subplots.AxesSubplot object at 0x7f2ef2a71828>],\n",
              "       [<matplotlib.axes._subplots.AxesSubplot object at 0x7f2ef2a277b8>,\n",
              "        <matplotlib.axes._subplots.AxesSubplot object at 0x7f2ef22f5d30>,\n",
              "        <matplotlib.axes._subplots.AxesSubplot object at 0x7f2ef2236be0>],\n",
              "       [<matplotlib.axes._subplots.AxesSubplot object at 0x7f2ef21ebe48>,\n",
              "        <matplotlib.axes._subplots.AxesSubplot object at 0x7f2ef21ab0b8>,\n",
              "        <matplotlib.axes._subplots.AxesSubplot object at 0x7f2ef21ab128>]],\n",
              "      dtype=object)"
            ]
          },
          "metadata": {
            "tags": []
          },
          "execution_count": 5
        },
        {
          "output_type": "display_data",
          "data": {
            "image/png": "[encoded data removed]",
            "text/plain": [
              "<Figure size 432x288 with 9 Axes>"
            ]
          },
          "metadata": {
            "tags": [],
            "needs_background": "light"
          }
        }
      ]
    },
    {
      "cell_type": "markdown",
      "metadata": {
        "id": "qElsS1bgCJIm"
      },
      "source": [
        "# Problem 2: Prepare data\n",
        "1. Convert the training and test data into numpy array.\n",
        "2. Normalize the data by standardization and minmax normalization."
      ]
    },
    {
      "cell_type": "code",
      "metadata": {
        "id": "25jtXEHg0Wao"
      },
      "source": [
        "feature_columns = ['feat1', 'feat2', 'feat3', 'feat4', 'feat5', 'feat6', 'feat7', 'feat8']\n",
        "target_column = 'target'"
      ],
      "execution_count": null,
      "outputs": []
    },
    {
      "cell_type": "markdown",
      "metadata": {
        "id": "nhNYiaCTDQ3l"
      },
      "source": [
        "### Convert the training and test data into numpy array."
      ]
    },
    {
      "cell_type": "code",
      "metadata": {
        "id": "S1QvU6mn7YaG"
      },
      "source": [
        "# convert data into numpy array\n",
        "\n"
      ],
      "execution_count": null,
      "outputs": []
    },
    {
      "cell_type": "code",
      "metadata": {
        "id": "g89x6s6x7aSn",
        "outputId": "85072718-7335-4268-9ea7-0d899ca07a19",
        "colab": {
          "base_uri": "https://localhost:8080/",
          "height": 53
        }
      },
      "source": [
        "print(\"X_train.shape = \", X_train.shape, \" y_train.shape = \", y_train.shape)\n",
        "print(\"X_test.shape = \", X_test.shape, \" y_test.shape = \", y_test.shape)"
      ],
      "execution_count": null,
      "outputs": [
        {
          "output_type": "stream",
          "text": [
            "X_train.shape =  (15000, 8)  y_train.shape =  (15000,)\n",
            "X_test.shape =  (15000, 8)  y_test.shape =  (15000,)\n"
          ],
          "name": "stdout"
        }
      ]
    },
    {
      "cell_type": "code",
      "metadata": {
        "id": "dbk2yYUp1-Bc",
        "outputId": "a779778a-3002-4597-f194-7784b61984cf",
        "colab": {
          "base_uri": "https://localhost:8080/",
          "height": 234
        }
      },
      "source": [
        "print(X_train[:5])\n",
        "print(X_test[:5])"
      ],
      "execution_count": null,
      "outputs": [
        {
          "output_type": "stream",
          "text": [
            "    feat1  feat2  feat3   feat4  feat5      feat6  feat7  feat8\n",
            "0  112.24  54.19     30  14.936  128.3  33.833333  65.69   47.2\n",
            "1  153.00  54.40     38  18.200  190.1  37.633333  65.53   46.3\n",
            "2   14.40  53.69     34  16.509   17.4  11.100000  65.44   11.7\n",
            "3   30.02  53.64     28  31.917   33.7  17.166667  65.43   22.6\n",
            "4   29.08  53.57     40  19.250   32.6  20.800000  65.43   26.2\n",
            "    feat1  feat2  feat3   feat4  feat5      feat6  feat7  feat8\n",
            "0  112.24  54.19     30  14.936  128.3  33.833333  65.69   47.2\n",
            "1  153.00  54.40     38  18.200  190.1  37.633333  65.53   46.3\n",
            "2   14.40  53.69     34  16.509   17.4  11.100000  65.44   11.7\n",
            "3   30.02  53.64     28  31.917   33.7  17.166667  65.43   22.6\n",
            "4   29.08  53.57     40  19.250   32.6  20.800000  65.43   26.2\n"
          ],
          "name": "stdout"
        }
      ]
    },
    {
      "cell_type": "markdown",
      "metadata": {
        "id": "Z37nrCO61Yir"
      },
      "source": [
        "### Normalize data applying the following methods:\n",
        "1. Standardization\n",
        "2. Min-max normalization"
      ]
    },
    {
      "cell_type": "code",
      "metadata": {
        "id": "Y-YWeKi-7ldU"
      },
      "source": [
        "# Standardization\n",
        "\n",
        "\n"
      ],
      "execution_count": null,
      "outputs": []
    },
    {
      "cell_type": "code",
      "metadata": {
        "id": "yFd_8CbZ7yN5"
      },
      "source": [
        "print(X_train_standard[:5])\n",
        "print(X_test_standard[:5])"
      ],
      "execution_count": null,
      "outputs": []
    },
    {
      "cell_type": "code",
      "metadata": {
        "id": "GgM4LbJcFhpS"
      },
      "source": [
        "# min-max normalization\n",
        "\n",
        "\n"
      ],
      "execution_count": null,
      "outputs": []
    },
    {
      "cell_type": "code",
      "metadata": {
        "id": "BowylHfyFt1r"
      },
      "source": [
        "print(X_train_minmax[:5])\n",
        "print(X_test_minmax[:5])"
      ],
      "execution_count": null,
      "outputs": []
    },
    {
      "cell_type": "markdown",
      "metadata": {
        "id": "EW9YAKS8-7Ev"
      },
      "source": [
        "# Problem 3: Build a machine learning model that predicts the target values from the features.\n",
        " * Do your best to achieve the highest performance on the test data using any methods or techniques learned from this course.\n",
        " * However, DO NOT use ensemble methods.\n",
        " * Referencing any code obtained from the Internet or other people will be regarded as cheating."
      ]
    },
    {
      "cell_type": "code",
      "metadata": {
        "id": "k1fdtCDW9Df8"
      },
      "source": [
        ""
      ],
      "execution_count": null,
      "outputs": []
    }
  ]
}