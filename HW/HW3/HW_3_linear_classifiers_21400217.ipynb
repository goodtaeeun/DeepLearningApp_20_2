{
  "nbformat": 4,
  "nbformat_minor": 0,
  "metadata": {
    "colab": {
      "name": "HW_3_linear_classifiers_21400217.ipynb",
      "provenance": [],
      "collapsed_sections": []
    },
    "kernelspec": {
      "name": "python3",
      "display_name": "Python 3"
    }
  },
  "cells": [
    {
      "cell_type": "code",
      "metadata": {
        "id": "zRMDSYJzIVoN"
      },
      "source": [
        "import numpy as np\n",
        "import sklearn as sk\n",
        "from sklearn.model_selection import train_test_split"
      ],
      "execution_count": 134,
      "outputs": []
    },
    {
      "cell_type": "markdown",
      "metadata": {
        "id": "pKzPfWGw_uJb"
      },
      "source": [
        "TO DO: import load_wine from sklearn.datasets\n",
        " Then, create an instance __dataset__ by calling load_wine()"
      ]
    },
    {
      "cell_type": "code",
      "metadata": {
        "id": "38JjqKgiLVkb"
      },
      "source": [
        "from sklearn.datasets import load_wine\n",
        "dataset = load_wine()"
      ],
      "execution_count": 135,
      "outputs": []
    },
    {
      "cell_type": "markdown",
      "metadata": {
        "id": "xNg7UCY3_-Vq"
      },
      "source": [
        "TO DO: Display dataset.keys() and the elements of dataset."
      ]
    },
    {
      "cell_type": "code",
      "metadata": {
        "id": "H35_sxE8QnLK",
        "outputId": "59206165-f5f6-4789-eb91-ea7bb63975a7",
        "colab": {
          "base_uri": "https://localhost:8080/",
          "height": 34
        }
      },
      "source": [
        "print(dataset.keys())"
      ],
      "execution_count": 136,
      "outputs": [
        {
          "output_type": "stream",
          "text": [
            "dict_keys(['data', 'target', 'target_names', 'DESCR', 'feature_names'])\n"
          ],
          "name": "stdout"
        }
      ]
    },
    {
      "cell_type": "code",
      "metadata": {
        "id": "VqpcXJSUQ15v",
        "outputId": "7299d934-b02a-4fe5-9749-5a09fe211356",
        "colab": {
          "base_uri": "https://localhost:8080/",
          "height": 1000
        }
      },
      "source": [
        "print(dataset.get('DESCR'))"
      ],
      "execution_count": 137,
      "outputs": [
        {
          "output_type": "stream",
          "text": [
            ".. _wine_dataset:\n",
            "\n",
            "Wine recognition dataset\n",
            "------------------------\n",
            "\n",
            "**Data Set Characteristics:**\n",
            "\n",
            "    :Number of Instances: 178 (50 in each of three classes)\n",
            "    :Number of Attributes: 13 numeric, predictive attributes and the class\n",
            "    :Attribute Information:\n",
            " \t\t- Alcohol\n",
            " \t\t- Malic acid\n",
            " \t\t- Ash\n",
            "\t\t- Alcalinity of ash  \n",
            " \t\t- Magnesium\n",
            "\t\t- Total phenols\n",
            " \t\t- Flavanoids\n",
            " \t\t- Nonflavanoid phenols\n",
            " \t\t- Proanthocyanins\n",
            "\t\t- Color intensity\n",
            " \t\t- Hue\n",
            " \t\t- OD280/OD315 of diluted wines\n",
            " \t\t- Proline\n",
            "\n",
            "    - class:\n",
            "            - class_0\n",
            "            - class_1\n",
            "            - class_2\n",
            "\t\t\n",
            "    :Summary Statistics:\n",
            "    \n",
            "    ============================= ==== ===== ======= =====\n",
            "                                   Min   Max   Mean     SD\n",
            "    ============================= ==== ===== ======= =====\n",
            "    Alcohol:                      11.0  14.8    13.0   0.8\n",
            "    Malic Acid:                   0.74  5.80    2.34  1.12\n",
            "    Ash:                          1.36  3.23    2.36  0.27\n",
            "    Alcalinity of Ash:            10.6  30.0    19.5   3.3\n",
            "    Magnesium:                    70.0 162.0    99.7  14.3\n",
            "    Total Phenols:                0.98  3.88    2.29  0.63\n",
            "    Flavanoids:                   0.34  5.08    2.03  1.00\n",
            "    Nonflavanoid Phenols:         0.13  0.66    0.36  0.12\n",
            "    Proanthocyanins:              0.41  3.58    1.59  0.57\n",
            "    Colour Intensity:              1.3  13.0     5.1   2.3\n",
            "    Hue:                          0.48  1.71    0.96  0.23\n",
            "    OD280/OD315 of diluted wines: 1.27  4.00    2.61  0.71\n",
            "    Proline:                       278  1680     746   315\n",
            "    ============================= ==== ===== ======= =====\n",
            "\n",
            "    :Missing Attribute Values: None\n",
            "    :Class Distribution: class_0 (59), class_1 (71), class_2 (48)\n",
            "    :Creator: R.A. Fisher\n",
            "    :Donor: Michael Marshall (MARSHALL%PLU@io.arc.nasa.gov)\n",
            "    :Date: July, 1988\n",
            "\n",
            "This is a copy of UCI ML Wine recognition datasets.\n",
            "https://archive.ics.uci.edu/ml/machine-learning-databases/wine/wine.data\n",
            "\n",
            "The data is the results of a chemical analysis of wines grown in the same\n",
            "region in Italy by three different cultivators. There are thirteen different\n",
            "measurements taken for different constituents found in the three types of\n",
            "wine.\n",
            "\n",
            "Original Owners: \n",
            "\n",
            "Forina, M. et al, PARVUS - \n",
            "An Extendible Package for Data Exploration, Classification and Correlation. \n",
            "Institute of Pharmaceutical and Food Analysis and Technologies,\n",
            "Via Brigata Salerno, 16147 Genoa, Italy.\n",
            "\n",
            "Citation:\n",
            "\n",
            "Lichman, M. (2013). UCI Machine Learning Repository\n",
            "[https://archive.ics.uci.edu/ml]. Irvine, CA: University of California,\n",
            "School of Information and Computer Science. \n",
            "\n",
            ".. topic:: References\n",
            "\n",
            "  (1) S. Aeberhard, D. Coomans and O. de Vel, \n",
            "  Comparison of Classifiers in High Dimensional Settings, \n",
            "  Tech. Rep. no. 92-02, (1992), Dept. of Computer Science and Dept. of  \n",
            "  Mathematics and Statistics, James Cook University of North Queensland. \n",
            "  (Also submitted to Technometrics). \n",
            "\n",
            "  The data was used with many others for comparing various \n",
            "  classifiers. The classes are separable, though only RDA \n",
            "  has achieved 100% correct classification. \n",
            "  (RDA : 100%, QDA 99.4%, LDA 98.9%, 1NN 96.1% (z-transformed data)) \n",
            "  (All results using the leave-one-out technique) \n",
            "\n",
            "  (2) S. Aeberhard, D. Coomans and O. de Vel, \n",
            "  \"THE CLASSIFICATION PERFORMANCE OF RDA\" \n",
            "  Tech. Rep. no. 92-01, (1992), Dept. of Computer Science and Dept. of \n",
            "  Mathematics and Statistics, James Cook University of North Queensland. \n",
            "  (Also submitted to Journal of Chemometrics).\n",
            "\n"
          ],
          "name": "stdout"
        }
      ]
    },
    {
      "cell_type": "code",
      "metadata": {
        "id": "TPvRsK5dLq6I",
        "outputId": "7c2c0b6d-c087-423a-dfd4-cb05cb2dfedb",
        "colab": {
          "base_uri": "https://localhost:8080/",
          "height": 34
        }
      },
      "source": [
        "print(dataset.get('feature_names'))"
      ],
      "execution_count": 138,
      "outputs": [
        {
          "output_type": "stream",
          "text": [
            "['alcohol', 'malic_acid', 'ash', 'alcalinity_of_ash', 'magnesium', 'total_phenols', 'flavanoids', 'nonflavanoid_phenols', 'proanthocyanins', 'color_intensity', 'hue', 'od280/od315_of_diluted_wines', 'proline']\n"
          ],
          "name": "stdout"
        }
      ]
    },
    {
      "cell_type": "code",
      "metadata": {
        "id": "wkMdM690lc5E",
        "outputId": "d0dfc02b-d88d-462e-f50d-55df2e472941",
        "colab": {
          "base_uri": "https://localhost:8080/",
          "height": 141
        }
      },
      "source": [
        "print(dataset.get('data'))"
      ],
      "execution_count": 139,
      "outputs": [
        {
          "output_type": "stream",
          "text": [
            "[[1.423e+01 1.710e+00 2.430e+00 ... 1.040e+00 3.920e+00 1.065e+03]\n",
            " [1.320e+01 1.780e+00 2.140e+00 ... 1.050e+00 3.400e+00 1.050e+03]\n",
            " [1.316e+01 2.360e+00 2.670e+00 ... 1.030e+00 3.170e+00 1.185e+03]\n",
            " ...\n",
            " [1.327e+01 4.280e+00 2.260e+00 ... 5.900e-01 1.560e+00 8.350e+02]\n",
            " [1.317e+01 2.590e+00 2.370e+00 ... 6.000e-01 1.620e+00 8.400e+02]\n",
            " [1.413e+01 4.100e+00 2.740e+00 ... 6.100e-01 1.600e+00 5.600e+02]]\n"
          ],
          "name": "stdout"
        }
      ]
    },
    {
      "cell_type": "code",
      "metadata": {
        "id": "hTYBz8xhLwUA",
        "outputId": "bb4c38d3-f734-4d70-9c17-ba205b7c9e68",
        "colab": {
          "base_uri": "https://localhost:8080/",
          "height": 34
        }
      },
      "source": [
        "print(dataset.get('target_names'))"
      ],
      "execution_count": 140,
      "outputs": [
        {
          "output_type": "stream",
          "text": [
            "['class_0' 'class_1' 'class_2']\n"
          ],
          "name": "stdout"
        }
      ]
    },
    {
      "cell_type": "code",
      "metadata": {
        "id": "dsoGDcRGlZGV",
        "outputId": "cea0a518-5c52-4ff2-a738-0c60aeb3dc34",
        "colab": {
          "base_uri": "https://localhost:8080/",
          "height": 106
        }
      },
      "source": [
        "print(dataset.get('target'))"
      ],
      "execution_count": 141,
      "outputs": [
        {
          "output_type": "stream",
          "text": [
            "[0 0 0 0 0 0 0 0 0 0 0 0 0 0 0 0 0 0 0 0 0 0 0 0 0 0 0 0 0 0 0 0 0 0 0 0 0\n",
            " 0 0 0 0 0 0 0 0 0 0 0 0 0 0 0 0 0 0 0 0 0 0 1 1 1 1 1 1 1 1 1 1 1 1 1 1 1\n",
            " 1 1 1 1 1 1 1 1 1 1 1 1 1 1 1 1 1 1 1 1 1 1 1 1 1 1 1 1 1 1 1 1 1 1 1 1 1\n",
            " 1 1 1 1 1 1 1 1 1 1 1 1 1 1 1 1 1 1 1 2 2 2 2 2 2 2 2 2 2 2 2 2 2 2 2 2 2\n",
            " 2 2 2 2 2 2 2 2 2 2 2 2 2 2 2 2 2 2 2 2 2 2 2 2 2 2 2 2 2 2]\n"
          ],
          "name": "stdout"
        }
      ]
    },
    {
      "cell_type": "markdown",
      "metadata": {
        "id": "2CbXJoepATMI"
      },
      "source": [
        "TO DO: Split dataset into train and test sets, and print the shape of X_train, y_train, X_test and y_test"
      ]
    },
    {
      "cell_type": "code",
      "metadata": {
        "id": "WXswUsplL-vJ",
        "outputId": "858624f1-cdc0-4942-c26b-f38e573bb0af",
        "colab": {
          "base_uri": "https://localhost:8080/",
          "height": 88
        }
      },
      "source": [
        "from sklearn.model_selection import train_test_split\n",
        "\n",
        "X_train, X_test, y_train, y_test = train_test_split(dataset.get('data'), dataset.get('target'))\n",
        "\n",
        "print(\"X_train.shape =\", X_train.shape)\n",
        "print(\"y_train.shape =\", y_train.shape)\n",
        "print(\"X_test.shape =\", X_test.shape)\n",
        "print(\"y_test.shape =\", y_test.shape)"
      ],
      "execution_count": 142,
      "outputs": [
        {
          "output_type": "stream",
          "text": [
            "X_train.shape = (133, 13)\n",
            "y_train.shape = (133,)\n",
            "X_test.shape = (45, 13)\n",
            "y_test.shape = (45,)\n"
          ],
          "name": "stdout"
        }
      ]
    },
    {
      "cell_type": "markdown",
      "metadata": {
        "id": "lX1xxXFyDUMa"
      },
      "source": [
        "TO DO: Build a classifier for the wine dataset using LogisicRegression, and print the accuracy on the training and test data.\n"
      ]
    },
    {
      "cell_type": "code",
      "metadata": {
        "id": "4w0M8kvhUEdG",
        "outputId": "0f21b8a2-c1f3-4fe6-cad4-5518bc7c72a9",
        "colab": {
          "base_uri": "https://localhost:8080/",
          "height": 194
        }
      },
      "source": [
        "from sklearn.linear_model import LogisticRegression\n",
        "logi_reg = LogisticRegression().fit(X_train,y_train)\n",
        "\n",
        "print(\"train score =\", logi_reg.score(X_train, y_train))\n",
        "print(\"test score =\", logi_reg.score(X_test, y_test))"
      ],
      "execution_count": 143,
      "outputs": [
        {
          "output_type": "stream",
          "text": [
            "train score = 0.9849624060150376\n",
            "test score = 0.9333333333333333\n"
          ],
          "name": "stdout"
        },
        {
          "output_type": "stream",
          "text": [
            "/usr/local/lib/python3.6/dist-packages/sklearn/linear_model/_logistic.py:940: ConvergenceWarning: lbfgs failed to converge (status=1):\n",
            "STOP: TOTAL NO. of ITERATIONS REACHED LIMIT.\n",
            "\n",
            "Increase the number of iterations (max_iter) or scale the data as shown in:\n",
            "    https://scikit-learn.org/stable/modules/preprocessing.html\n",
            "Please also refer to the documentation for alternative solver options:\n",
            "    https://scikit-learn.org/stable/modules/linear_model.html#logistic-regression\n",
            "  extra_warning_msg=_LOGISTIC_SOLVER_CONVERGENCE_MSG)\n"
          ],
          "name": "stderr"
        }
      ]
    },
    {
      "cell_type": "markdown",
      "metadata": {
        "id": "RJiONBoRD58c"
      },
      "source": [
        "TO DO: Save the weight matrix and bias vector of the LogisticRegression instance as W_lr and b_lr. Then, print them."
      ]
    },
    {
      "cell_type": "code",
      "metadata": {
        "id": "GiDFNsIBUx49",
        "outputId": "30e71b93-389d-4f82-d2ba-03b3087017db",
        "colab": {
          "base_uri": "https://localhost:8080/",
          "height": 248
        }
      },
      "source": [
        "W_lr = logi_reg.coef_\n",
        "b_lr = logi_reg.intercept_\n",
        "\n",
        "print(\"W_lr =\", W_lr)\n",
        "print(\"b_lr =\", b_lr)"
      ],
      "execution_count": 144,
      "outputs": [
        {
          "output_type": "stream",
          "text": [
            "W_lr = [[-8.11548697e-02  1.79510253e-01  1.01611752e-01 -3.82991595e-01\n",
            "   1.72317176e-02  1.65917417e-01  4.37205342e-01 -2.74547311e-02\n",
            "   1.09415992e-01 -1.08185414e-01 -4.62952931e-03  2.88479032e-01\n",
            "   7.02665148e-03]\n",
            " [ 2.85353254e-01 -6.64335209e-01 -1.11749188e-01  7.44801702e-02\n",
            "   5.60633917e-02  2.23690658e-01  2.85877516e-01  9.04484898e-03\n",
            "   1.83306382e-01 -1.25428320e+00  1.88796652e-01  3.34187434e-01\n",
            "  -7.01037671e-03]\n",
            " [-2.04198385e-01  4.84824956e-01  1.01374354e-02  3.08511424e-01\n",
            "  -7.32951093e-02 -3.89608075e-01 -7.23082858e-01  1.84098821e-02\n",
            "  -2.92722375e-01  1.36246861e+00 -1.84167123e-01 -6.22666465e-01\n",
            "  -1.62747760e-05]]\n",
            "b_lr = [-0.03084798  0.06902057 -0.03817259]\n"
          ],
          "name": "stdout"
        }
      ]
    },
    {
      "cell_type": "markdown",
      "metadata": {
        "id": "alKUm1U8Edmz"
      },
      "source": [
        "TO DO: Build a classifier for the wine dataset using LinearSVC, and print the accuracy on the training and test data."
      ]
    },
    {
      "cell_type": "code",
      "metadata": {
        "id": "quvDcGUjVTAG",
        "outputId": "0adbc007-ee66-4fd8-85e8-9ca61b107370",
        "colab": {
          "base_uri": "https://localhost:8080/",
          "height": 88
        }
      },
      "source": [
        "from sklearn.svm import LinearSVC\n",
        "linear_svm = LinearSVC().fit(X_train,y_train)\n",
        "\n",
        "print(\"train score =\", linear_svm.score(X_train, y_train))\n",
        "print(\"test score =\", linear_svm.score(X_test, y_test))"
      ],
      "execution_count": 130,
      "outputs": [
        {
          "output_type": "stream",
          "text": [
            "train score = 0.7142857142857143\n",
            "test score = 0.7777777777777778\n"
          ],
          "name": "stdout"
        },
        {
          "output_type": "stream",
          "text": [
            "/usr/local/lib/python3.6/dist-packages/sklearn/svm/_base.py:947: ConvergenceWarning: Liblinear failed to converge, increase the number of iterations.\n",
            "  \"the number of iterations.\", ConvergenceWarning)\n"
          ],
          "name": "stderr"
        }
      ]
    },
    {
      "cell_type": "markdown",
      "metadata": {
        "id": "xoUZ6HwWE35T"
      },
      "source": [
        "TO DO: Save the weight matrix and bias vector of the LinearSVC instance as W_svc and b_svc. Then, print them."
      ]
    },
    {
      "cell_type": "code",
      "metadata": {
        "id": "JxPkuSWsuoiV",
        "outputId": "1803e59a-3df4-4a52-9d71-58e9a848a122",
        "colab": {
          "base_uri": "https://localhost:8080/",
          "height": 248
        }
      },
      "source": [
        "W_svc = linear_svm.coef_\n",
        "b_svc = linear_svm.intercept_\n",
        "\n",
        "print(\"W_svc =\", W_svc)\n",
        "print(\"b_svc =\", b_svc)\n"
      ],
      "execution_count": 131,
      "outputs": [
        {
          "output_type": "stream",
          "text": [
            "W_svc = [[-3.44382672e-02 -4.42061663e-03 -2.12949964e-03 -1.17375219e-01\n",
            "  -2.76102440e-05  9.21616707e-03  2.79096984e-02 -4.09301644e-03\n",
            "   6.10936372e-03 -2.83191442e-02 -7.75116918e-04  1.35062227e-02\n",
            "   2.90302325e-03]\n",
            " [ 3.89555602e-02 -6.62967370e-02 -4.45135923e-03  4.11321069e-02\n",
            "   4.38556074e-03  4.54266373e-02  7.75121043e-02  1.38132704e-03\n",
            "   4.38941008e-02 -1.96797026e-01  3.06781996e-02  8.06369609e-02\n",
            "  -5.81277033e-04]\n",
            " [-3.88999157e-02  6.86798065e-02 -7.20090644e-04  7.35254803e-03\n",
            "  -3.47167852e-03 -6.69529335e-02 -1.27452677e-01  2.67027717e-03\n",
            "  -5.28445025e-02  2.16445089e-01 -3.29193975e-02 -1.09528974e-01\n",
            "  -2.53913225e-04]]\n",
            "b_svc = [-0.0044991   0.00854809 -0.00626464]\n"
          ],
          "name": "stdout"
        }
      ]
    },
    {
      "cell_type": "markdown",
      "metadata": {
        "id": "fZk0kiO0Aiop"
      },
      "source": [
        "TO DO: Define a class __SimpleLinearClassifier__ composed of the following functions:\n",
        "\n",
        "* __\\_\\_init\\_\\___(self, weight, bias) - takes a weight matrix and a bias vector as input and stores them in instance variables\n",
        "\n",
        "* __predict(self, X)__ - takes an array of rank 2 as input, and returns the classification results as an array of rank 1\n",
        "\n",
        "* __probability(self, X)__ - takes an array of rank 2 as input and returns the probabilities that each sample belongs to each class as an array of rank 2. (You need to implement the softmax function to convert logits into probabilities.)\n",
        "\n",
        "* __score(self, X, y)__ - takes an input data (rank 2) and a target vector (rank 1) as input, and returns the accuracy as a scalar value.\n",
        "\n",
        "\n",
        "The __SimpleLinearClassifier__ should work as the following examples."
      ]
    },
    {
      "cell_type": "code",
      "metadata": {
        "id": "pDnCF1mjvFJA"
      },
      "source": [
        "# Define SimpleLienarClassfier here.\n",
        "class SimpleLinearClassifier:\n",
        "    def __init__(self, weight, bias):\n",
        "        self.weight = weight\n",
        "        self.bias = bias      \n",
        "      \n",
        "    def predict(self,X):\n",
        "\n",
        "        # X is an array of rank 2\n",
        "        reg = np.matmul(X, np.transpose(self.weight)) + self.bias\n",
        "        # result size is sample * class\n",
        "        sample_num, class_num = reg.shape\n",
        "        prediction = np.amax(reg,1)\n",
        "        for i in range(sample_num):\n",
        "            for j in range(class_num):\n",
        "                if(prediction[i] == reg[i][j]):\n",
        "                    prediction[i] = int(j)\n",
        "                    break\n",
        "        \n",
        "        return prediction.astype(int)\n",
        "\n",
        "    def softmax(self, in_vector):\n",
        "        e = np.exp(in_vector - np.max(in_vector))\n",
        "        return e / e.sum()\n",
        "\n",
        "\n",
        "    def probability(self,X):\n",
        "        # X is an array of rank 2\n",
        "        reg = np.matmul(X, np.transpose(self.weight)) + self.bias\n",
        "        sample_num, class_num = reg.shape\n",
        "        prob_m = np.zeros((sample_num, class_num))\n",
        "        for i in range(sample_num):\n",
        "            prob_m[i] = self.softmax(reg[i,:])\n",
        "\n",
        "\n",
        "        return prob_m\n",
        "\n",
        "    \n",
        "    def score(self,X, y):\n",
        "        # X is an array of rank 2\n",
        "        # y is an vector of rank 1\n",
        "        y_hat = self.predict(X)\n",
        "        score_vector =  y_hat == y\n",
        "        return np.mean(score_vector)"
      ],
      "execution_count": 132,
      "outputs": []
    },
    {
      "cell_type": "markdown",
      "metadata": {
        "id": "IuSYy99-FOAa"
      },
      "source": [
        "TO DO: Create a SimpleLinearClassfier instance simple_lr using W_lr and b_lr. Then, print the accuracy on the training and test data.<br>\n",
        "(The accuracies should be the same as those of the LogisticRegression instance.)"
      ]
    },
    {
      "cell_type": "code",
      "metadata": {
        "id": "MJFs7pAg6IOY",
        "outputId": "ea4a9f94-be48-443b-d31d-6aa810d49372",
        "colab": {
          "base_uri": "https://localhost:8080/",
          "height": 52
        }
      },
      "source": [
        "simple_lr = SimpleLinearClassifier(W_lr, b_lr)\n",
        "\n",
        "print(\"train score =\",simple_lr.score(X_train, y_train)) \n",
        "print(\"test score =\",simple_lr.score(X_test, y_test))  \n"
      ],
      "execution_count": 110,
      "outputs": [
        {
          "output_type": "stream",
          "text": [
            "train score = 0.9774436090225563\n",
            "test score = 0.9333333333333333\n"
          ],
          "name": "stdout"
        }
      ]
    },
    {
      "cell_type": "markdown",
      "metadata": {
        "id": "bhi2Zmx3FaPx"
      },
      "source": [
        "TO DO: Display the results of simple_lr.predict(X_test) along with y_test."
      ]
    },
    {
      "cell_type": "code",
      "metadata": {
        "id": "xXDlqHvcgClQ",
        "outputId": "a08b7d5a-e269-4f30-8e64-8f1df0af0b3e",
        "colab": {
          "base_uri": "https://localhost:8080/",
          "height": 88
        }
      },
      "source": [
        "print(\"y_hat =\",simple_lr.predict(X_test))\n",
        "print(\"y_test =\",y_test)    "
      ],
      "execution_count": 111,
      "outputs": [
        {
          "output_type": "stream",
          "text": [
            "y_hat = [1 2 1 1 2 1 1 0 1 1 1 0 1 1 2 2 1 0 0 1 1 2 0 0 0 1 1 0 0 1 1 0 0 2 1 0 0\n",
            " 1 2 2 0 0 1 1 0]\n",
            "y_test = [1 2 1 1 2 1 1 1 1 1 1 0 1 1 2 1 1 0 0 1 1 2 0 0 0 1 1 0 0 1 1 0 0 2 1 0 0\n",
            " 1 1 2 0 0 1 1 0]\n"
          ],
          "name": "stdout"
        }
      ]
    },
    {
      "cell_type": "markdown",
      "metadata": {
        "id": "BfSGdKXfKAwJ"
      },
      "source": [
        "TO DO: Display the result of simple_lr.probability(X_test).\n",
        "Then, check whether the sum of each row makes one."
      ]
    },
    {
      "cell_type": "code",
      "metadata": {
        "id": "4ZYWuHVVi88o",
        "outputId": "86009fcf-8c8f-4fe3-cd1d-95889f85bdf2",
        "colab": {
          "base_uri": "https://localhost:8080/",
          "height": 852
        }
      },
      "source": [
        "print(\"prob =\",simple_lr.probability(X_test))\n",
        "print(\"The sum of rows =\",np.sum(simple_lr.probability(X_test), 1))"
      ],
      "execution_count": 113,
      "outputs": [
        {
          "output_type": "stream",
          "text": [
            "prob = [[4.24484450e-02 8.34534203e-01 1.23017352e-01]\n",
            " [3.67329448e-05 2.84783393e-09 9.99963264e-01]\n",
            " [2.34474010e-02 9.75059498e-01 1.49310112e-03]\n",
            " [4.60605677e-01 4.71635895e-01 6.77584285e-02]\n",
            " [2.12396458e-02 2.35416125e-02 9.55218742e-01]\n",
            " [3.62565032e-01 6.32461846e-01 4.97312148e-03]\n",
            " [9.52985045e-03 9.90253325e-01 2.16824134e-04]\n",
            " [5.21468129e-01 3.60988168e-01 1.17543702e-01]\n",
            " [1.41808526e-02 9.84854057e-01 9.65090315e-04]\n",
            " [2.36358506e-04 9.99609501e-01 1.54140250e-04]\n",
            " [2.20071786e-04 9.99612615e-01 1.67313494e-04]\n",
            " [9.65881141e-01 2.85391684e-02 5.57969073e-03]\n",
            " [7.87286715e-02 8.12554773e-01 1.08716556e-01]\n",
            " [5.36355383e-02 5.23480112e-01 4.22884349e-01]\n",
            " [6.12033488e-06 3.22998887e-07 9.99993557e-01]\n",
            " [8.52348955e-03 1.93074011e-02 9.72169109e-01]\n",
            " [9.65042756e-04 9.97953458e-01 1.08149935e-03]\n",
            " [9.99977212e-01 2.04529767e-06 2.07429070e-05]\n",
            " [9.99850204e-01 2.73767858e-07 1.49522558e-04]\n",
            " [4.02245815e-01 4.61891562e-01 1.35862623e-01]\n",
            " [4.20829365e-01 5.67201255e-01 1.19693797e-02]\n",
            " [3.11836661e-06 3.23569660e-08 9.99996849e-01]\n",
            " [9.68894459e-01 1.90240771e-02 1.20814641e-02]\n",
            " [9.99990793e-01 1.12404901e-08 9.19558225e-06]\n",
            " [9.91417789e-01 7.86232575e-04 7.79597807e-03]\n",
            " [2.04186587e-02 9.75913834e-01 3.66750753e-03]\n",
            " [1.05527028e-02 9.63823009e-01 2.56242880e-02]\n",
            " [9.97042264e-01 1.03368554e-03 1.92405066e-03]\n",
            " [9.99838426e-01 6.84055361e-06 1.54733145e-04]\n",
            " [4.09196521e-02 9.58912933e-01 1.67415086e-04]\n",
            " [3.73336974e-02 9.50567747e-01 1.20985553e-02]\n",
            " [9.96369342e-01 2.12894644e-03 1.50171108e-03]\n",
            " [9.99769729e-01 4.44059757e-05 1.85864683e-04]\n",
            " [3.06142252e-03 5.22078653e-03 9.91717791e-01]\n",
            " [4.93351733e-03 9.75638745e-01 1.94277374e-02]\n",
            " [9.77396464e-01 2.16122100e-02 9.91325901e-04]\n",
            " [5.62834057e-01 4.35486760e-01 1.67918357e-03]\n",
            " [3.03132700e-04 9.99644617e-01 5.22501141e-05]\n",
            " [1.30913441e-02 7.52680397e-02 9.11640616e-01]\n",
            " [3.92112430e-06 5.70908582e-09 9.99996073e-01]\n",
            " [9.98996974e-01 4.68857879e-04 5.34168066e-04]\n",
            " [9.86869572e-01 1.23447307e-02 7.85697195e-04]\n",
            " [3.75619989e-01 5.88701202e-01 3.56788091e-02]\n",
            " [8.74727565e-02 8.98915770e-01 1.36114731e-02]\n",
            " [9.99608741e-01 1.05857190e-05 3.80672785e-04]]\n",
            "The sum of rows = [1. 1. 1. 1. 1. 1. 1. 1. 1. 1. 1. 1. 1. 1. 1. 1. 1. 1. 1. 1. 1. 1. 1. 1.\n",
            " 1. 1. 1. 1. 1. 1. 1. 1. 1. 1. 1. 1. 1. 1. 1. 1. 1. 1. 1. 1. 1.]\n"
          ],
          "name": "stdout"
        }
      ]
    },
    {
      "cell_type": "markdown",
      "metadata": {
        "id": "9FfCL3TlKWoQ"
      },
      "source": [
        "TO DO: Print the accuracy on the training and test data."
      ]
    },
    {
      "cell_type": "code",
      "metadata": {
        "id": "nWf5c4mFi-ue",
        "outputId": "c4bfeb86-db61-4784-e684-2fe66738a2e4",
        "colab": {
          "base_uri": "https://localhost:8080/",
          "height": 52
        }
      },
      "source": [
        "print(\"train score =\",simple_lr.score(X_train, y_train)) \n",
        "print(\"test score =\",simple_lr.score(X_test, y_test))"
      ],
      "execution_count": 114,
      "outputs": [
        {
          "output_type": "stream",
          "text": [
            "train score = 0.9774436090225563\n",
            "test score = 0.9333333333333333\n"
          ],
          "name": "stdout"
        }
      ]
    },
    {
      "cell_type": "markdown",
      "metadata": {
        "id": "mQTnq0KhGwf5"
      },
      "source": [
        "TO DO: Create a SimpleLinearClassfier instance simple_svc using W_svc and b_svc. Then, print the accuracy on the training and test data.<br>\n",
        "(The accuracies should be the same as those of the LinearSVC instance.)"
      ]
    },
    {
      "cell_type": "code",
      "metadata": {
        "id": "dyhGFRmS-6gc",
        "outputId": "310123c0-9b4d-4f0e-be57-7d0608ee6ca7",
        "colab": {
          "base_uri": "https://localhost:8080/",
          "height": 52
        }
      },
      "source": [
        "simple_svc = SimpleLinearClassifier(W_svc, b_svc)\n",
        "\n",
        "print(\"train score =\",simple_svc.score(X_train, y_train)) \n",
        "print(\"test score =\",simple_svc.score(X_test, y_test))\n"
      ],
      "execution_count": 115,
      "outputs": [
        {
          "output_type": "stream",
          "text": [
            "train score = 0.6766917293233082\n",
            "test score = 0.5777777777777777\n"
          ],
          "name": "stdout"
        }
      ]
    },
    {
      "cell_type": "markdown",
      "metadata": {
        "id": "TiX8oew5KlbY"
      },
      "source": [
        "TO DO: Display the results of simple_svc.predict(X_test) along with y_test."
      ]
    },
    {
      "cell_type": "code",
      "metadata": {
        "id": "j2PSAoU4yTEZ",
        "outputId": "2ed08842-e13e-4838-c52a-f90dccfa67b8",
        "colab": {
          "base_uri": "https://localhost:8080/",
          "height": 88
        }
      },
      "source": [
        "print(\"y_hat =\",simple_svc.predict(X_test))\n",
        "print(\"y_test =\",y_test) "
      ],
      "execution_count": 116,
      "outputs": [
        {
          "output_type": "stream",
          "text": [
            "y_hat = [1 2 1 2 2 1 1 2 1 1 1 2 1 1 2 2 1 2 2 2 1 2 2 0 2 1 1 2 2 1 1 2 2 2 1 2 1\n",
            " 1 2 2 2 2 1 1 2]\n",
            "y_test = [1 2 1 1 2 1 1 1 1 1 1 0 1 1 2 1 1 0 0 1 1 2 0 0 0 1 1 0 0 1 1 0 0 2 1 0 0\n",
            " 1 1 2 0 0 1 1 0]\n"
          ],
          "name": "stdout"
        }
      ]
    },
    {
      "cell_type": "markdown",
      "metadata": {
        "id": "VykOf3HbLAYZ"
      },
      "source": [
        "TO DO: Display the result of simple_svc.probability(X_test).\n",
        "Then, check whether the sum of each row makes one."
      ]
    },
    {
      "cell_type": "code",
      "metadata": {
        "id": "Ad_Z4IP7FV6p",
        "outputId": "66cf7383-15bc-4833-fe8d-36d52c8c202e",
        "colab": {
          "base_uri": "https://localhost:8080/",
          "height": 852
        }
      },
      "source": [
        "print(\"prob =\",simple_svc.probability(X_test))\n",
        "print(\"The sum of rows =\",np.sum(simple_lr.probability(X_test), 1))"
      ],
      "execution_count": 117,
      "outputs": [
        {
          "output_type": "stream",
          "text": [
            "prob = [[0.06005397 0.58752551 0.35242052]\n",
            " [0.02257687 0.02201739 0.95540574]\n",
            " [0.06018101 0.69696333 0.24285566]\n",
            " [0.10549635 0.4432325  0.45127114]\n",
            " [0.04743636 0.30379666 0.64876697]\n",
            " [0.11224047 0.5453806  0.34237893]\n",
            " [0.04922453 0.63758142 0.31319406]\n",
            " [0.11761616 0.3011393  0.58124454]\n",
            " [0.06752412 0.70029357 0.23218231]\n",
            " [0.02313445 0.83805545 0.1388101 ]\n",
            " [0.01962165 0.81865808 0.16172027]\n",
            " [0.18398757 0.32501406 0.49099837]\n",
            " [0.06503471 0.51090547 0.42405982]\n",
            " [0.05864212 0.513795   0.42756288]\n",
            " [0.01301229 0.07014154 0.91684617]\n",
            " [0.05221053 0.3619611  0.58582838]\n",
            " [0.03360652 0.68439169 0.28200179]\n",
            " [0.40473328 0.04543286 0.54983386]\n",
            " [0.33909129 0.0327203  0.62818841]\n",
            " [0.11852445 0.4005016  0.48097396]\n",
            " [0.12556953 0.47826211 0.39616835]\n",
            " [0.01751666 0.05360757 0.92887577]\n",
            " [0.15756281 0.40333424 0.43910295]\n",
            " [0.51326567 0.01772366 0.46901067]\n",
            " [0.18029188 0.15418107 0.66552705]\n",
            " [0.0743431  0.61577904 0.30987786]\n",
            " [0.0515652  0.57680881 0.37162599]\n",
            " [0.2254379  0.15745622 0.61710589]\n",
            " [0.36672231 0.05480008 0.57847761]\n",
            " [0.09254209 0.67102754 0.23643037]\n",
            " [0.0683849  0.59516339 0.33645171]\n",
            " [0.25561116 0.16499241 0.57939643]\n",
            " [0.33434529 0.08683529 0.57881942]\n",
            " [0.04005268 0.2826985  0.67724882]\n",
            " [0.03999184 0.60918455 0.35082361]\n",
            " [0.23074214 0.29607959 0.47317827]\n",
            " [0.13854954 0.47478323 0.38666723]\n",
            " [0.03186005 0.82242636 0.14571359]\n",
            " [0.03827911 0.35378223 0.60793865]\n",
            " [0.01363378 0.03166151 0.95470471]\n",
            " [0.30854744 0.16811449 0.52333807]\n",
            " [0.24828696 0.25496289 0.49675015]\n",
            " [0.11897117 0.44615102 0.43487781]\n",
            " [0.08429761 0.49349582 0.42220657]\n",
            " [0.33697209 0.08960757 0.57342034]]\n",
            "The sum of rows = [1. 1. 1. 1. 1. 1. 1. 1. 1. 1. 1. 1. 1. 1. 1. 1. 1. 1. 1. 1. 1. 1. 1. 1.\n",
            " 1. 1. 1. 1. 1. 1. 1. 1. 1. 1. 1. 1. 1. 1. 1. 1. 1. 1. 1. 1. 1.]\n"
          ],
          "name": "stdout"
        }
      ]
    },
    {
      "cell_type": "markdown",
      "metadata": {
        "id": "8tkrI3OVKcvI"
      },
      "source": [
        "TO DO: Print the accuracy on the training and test data."
      ]
    },
    {
      "cell_type": "code",
      "metadata": {
        "id": "7cZqFbAHyfqH",
        "outputId": "c14bbf8b-e23b-4ca4-b271-5b28defd2d16",
        "colab": {
          "base_uri": "https://localhost:8080/",
          "height": 52
        }
      },
      "source": [
        "print(\"train score =\",simple_svc.score(X_train, y_train)) \n",
        "print(\"test score =\",simple_svc.score(X_test, y_test))"
      ],
      "execution_count": 118,
      "outputs": [
        {
          "output_type": "stream",
          "text": [
            "train score = 0.6766917293233082\n",
            "test score = 0.5777777777777777\n"
          ],
          "name": "stdout"
        }
      ]
    }
  ]
}