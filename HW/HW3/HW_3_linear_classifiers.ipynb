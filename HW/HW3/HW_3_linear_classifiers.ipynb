{
  "nbformat": 4,
  "nbformat_minor": 0,
  "metadata": {
    "colab": {
      "name": "HW#3 linear classifiers.ipynb",
      "provenance": [],
      "collapsed_sections": []
    },
    "kernelspec": {
      "name": "python3",
      "display_name": "Python 3"
    }
  },
  "cells": [
    {
      "cell_type": "code",
      "metadata": {
        "id": "zRMDSYJzIVoN"
      },
      "source": [
        "import numpy as np\n",
        "import sklearn as sk\n",
        "from sklearn.model_selection import train_test_split"
      ],
      "execution_count": null,
      "outputs": []
    },
    {
      "cell_type": "markdown",
      "metadata": {
        "id": "pKzPfWGw_uJb"
      },
      "source": [
        "TO DO: import load_wine from sklearn.datasets\n",
        " Then, create an instance __dataset__ by calling load_wine()"
      ]
    },
    {
      "cell_type": "code",
      "metadata": {
        "id": "38JjqKgiLVkb"
      },
      "source": [
        ""
      ],
      "execution_count": null,
      "outputs": []
    },
    {
      "cell_type": "markdown",
      "metadata": {
        "id": "xNg7UCY3_-Vq"
      },
      "source": [
        "TO DO: Display dataset.keys() and the elements of dataset."
      ]
    },
    {
      "cell_type": "code",
      "metadata": {
        "id": "X3r1_VXrLdbp",
        "outputId": "84332e4d-f0df-4a36-e915-35ec620ad362",
        "colab": {
          "base_uri": "https://localhost:8080/",
          "height": 36
        }
      },
      "source": [
        ""
      ],
      "execution_count": null,
      "outputs": [
        {
          "output_type": "execute_result",
          "data": {
            "text/plain": [
              "dict_keys(['data', 'target', 'target_names', 'DESCR', 'feature_names'])"
            ]
          },
          "metadata": {
            "tags": []
          },
          "execution_count": 3
        }
      ]
    },
    {
      "cell_type": "code",
      "metadata": {
        "id": "TPvRsK5dLq6I",
        "outputId": "2804546b-c7b9-4d08-c71e-1ef3d384b6cc",
        "colab": {
          "base_uri": "https://localhost:8080/",
          "height": 1000
        }
      },
      "source": [
        ""
      ],
      "execution_count": null,
      "outputs": [
        {
          "output_type": "stream",
          "text": [
            ".. _wine_dataset:\n",
            "\n",
            "Wine recognition dataset\n",
            "------------------------\n",
            "\n",
            "**Data Set Characteristics:**\n",
            "\n",
            "    :Number of Instances: 178 (50 in each of three classes)\n",
            "    :Number of Attributes: 13 numeric, predictive attributes and the class\n",
            "    :Attribute Information:\n",
            " \t\t- Alcohol\n",
            " \t\t- Malic acid\n",
            " \t\t- Ash\n",
            "\t\t- Alcalinity of ash  \n",
            " \t\t- Magnesium\n",
            "\t\t- Total phenols\n",
            " \t\t- Flavanoids\n",
            " \t\t- Nonflavanoid phenols\n",
            " \t\t- Proanthocyanins\n",
            "\t\t- Color intensity\n",
            " \t\t- Hue\n",
            " \t\t- OD280/OD315 of diluted wines\n",
            " \t\t- Proline\n",
            "\n",
            "    - class:\n",
            "            - class_0\n",
            "            - class_1\n",
            "            - class_2\n",
            "\t\t\n",
            "    :Summary Statistics:\n",
            "    \n",
            "    ============================= ==== ===== ======= =====\n",
            "                                   Min   Max   Mean     SD\n",
            "    ============================= ==== ===== ======= =====\n",
            "    Alcohol:                      11.0  14.8    13.0   0.8\n",
            "    Malic Acid:                   0.74  5.80    2.34  1.12\n",
            "    Ash:                          1.36  3.23    2.36  0.27\n",
            "    Alcalinity of Ash:            10.6  30.0    19.5   3.3\n",
            "    Magnesium:                    70.0 162.0    99.7  14.3\n",
            "    Total Phenols:                0.98  3.88    2.29  0.63\n",
            "    Flavanoids:                   0.34  5.08    2.03  1.00\n",
            "    Nonflavanoid Phenols:         0.13  0.66    0.36  0.12\n",
            "    Proanthocyanins:              0.41  3.58    1.59  0.57\n",
            "    Colour Intensity:              1.3  13.0     5.1   2.3\n",
            "    Hue:                          0.48  1.71    0.96  0.23\n",
            "    OD280/OD315 of diluted wines: 1.27  4.00    2.61  0.71\n",
            "    Proline:                       278  1680     746   315\n",
            "    ============================= ==== ===== ======= =====\n",
            "\n",
            "    :Missing Attribute Values: None\n",
            "    :Class Distribution: class_0 (59), class_1 (71), class_2 (48)\n",
            "    :Creator: R.A. Fisher\n",
            "    :Donor: Michael Marshall (MARSHALL%PLU@io.arc.nasa.gov)\n",
            "    :Date: July, 1988\n",
            "\n",
            "This is a copy of UCI ML Wine recognition datasets.\n",
            "https://archive.ics.uci.edu/ml/machine-learning-databases/wine/wine.data\n",
            "\n",
            "The data is the results of a chemical analysis of wines grown in the same\n",
            "region in Italy by three different cultivators. There are thirteen different\n",
            "measurements taken for different constituents found in the three types of\n",
            "wine.\n",
            "\n",
            "Original Owners: \n",
            "\n",
            "Forina, M. et al, PARVUS - \n",
            "An Extendible Package for Data Exploration, Classification and Correlation. \n",
            "Institute of Pharmaceutical and Food Analysis and Technologies,\n",
            "Via Brigata Salerno, 16147 Genoa, Italy.\n",
            "\n",
            "Citation:\n",
            "\n",
            "Lichman, M. (2013). UCI Machine Learning Repository\n",
            "[https://archive.ics.uci.edu/ml]. Irvine, CA: University of California,\n",
            "School of Information and Computer Science. \n",
            "\n",
            ".. topic:: References\n",
            "\n",
            "  (1) S. Aeberhard, D. Coomans and O. de Vel, \n",
            "  Comparison of Classifiers in High Dimensional Settings, \n",
            "  Tech. Rep. no. 92-02, (1992), Dept. of Computer Science and Dept. of  \n",
            "  Mathematics and Statistics, James Cook University of North Queensland. \n",
            "  (Also submitted to Technometrics). \n",
            "\n",
            "  The data was used with many others for comparing various \n",
            "  classifiers. The classes are separable, though only RDA \n",
            "  has achieved 100% correct classification. \n",
            "  (RDA : 100%, QDA 99.4%, LDA 98.9%, 1NN 96.1% (z-transformed data)) \n",
            "  (All results using the leave-one-out technique) \n",
            "\n",
            "  (2) S. Aeberhard, D. Coomans and O. de Vel, \n",
            "  \"THE CLASSIFICATION PERFORMANCE OF RDA\" \n",
            "  Tech. Rep. no. 92-01, (1992), Dept. of Computer Science and Dept. of \n",
            "  Mathematics and Statistics, James Cook University of North Queensland. \n",
            "  (Also submitted to Journal of Chemometrics).\n",
            "\n"
          ],
          "name": "stdout"
        }
      ]
    },
    {
      "cell_type": "code",
      "metadata": {
        "id": "wkMdM690lc5E",
        "outputId": "209c7ea1-d79a-4010-ed9a-b0d294093834",
        "colab": {
          "base_uri": "https://localhost:8080/",
          "height": 56
        }
      },
      "source": [
        ""
      ],
      "execution_count": null,
      "outputs": [
        {
          "output_type": "stream",
          "text": [
            "['alcohol', 'malic_acid', 'ash', 'alcalinity_of_ash', 'magnesium', 'total_phenols', 'flavanoids', 'nonflavanoid_phenols', 'proanthocyanins', 'color_intensity', 'hue', 'od280/od315_of_diluted_wines', 'proline']\n"
          ],
          "name": "stdout"
        }
      ]
    },
    {
      "cell_type": "code",
      "metadata": {
        "id": "hTYBz8xhLwUA",
        "outputId": "40ab7d92-167c-450e-afc2-78faf623d2da",
        "colab": {
          "base_uri": "https://localhost:8080/",
          "height": 148
        }
      },
      "source": [
        ""
      ],
      "execution_count": null,
      "outputs": [
        {
          "output_type": "stream",
          "text": [
            "[[1.423e+01 1.710e+00 2.430e+00 ... 1.040e+00 3.920e+00 1.065e+03]\n",
            " [1.320e+01 1.780e+00 2.140e+00 ... 1.050e+00 3.400e+00 1.050e+03]\n",
            " [1.316e+01 2.360e+00 2.670e+00 ... 1.030e+00 3.170e+00 1.185e+03]\n",
            " ...\n",
            " [1.327e+01 4.280e+00 2.260e+00 ... 5.900e-01 1.560e+00 8.350e+02]\n",
            " [1.317e+01 2.590e+00 2.370e+00 ... 6.000e-01 1.620e+00 8.400e+02]\n",
            " [1.413e+01 4.100e+00 2.740e+00 ... 6.100e-01 1.600e+00 5.600e+02]]\n"
          ],
          "name": "stdout"
        }
      ]
    },
    {
      "cell_type": "code",
      "metadata": {
        "id": "dsoGDcRGlZGV",
        "outputId": "dca1b0a6-f0da-4902-8bc9-781551bc62f8",
        "colab": {
          "base_uri": "https://localhost:8080/",
          "height": 36
        }
      },
      "source": [
        ""
      ],
      "execution_count": null,
      "outputs": [
        {
          "output_type": "stream",
          "text": [
            "['class_0' 'class_1' 'class_2']\n"
          ],
          "name": "stdout"
        }
      ]
    },
    {
      "cell_type": "code",
      "metadata": {
        "id": "xoz5_O0RL8cO",
        "outputId": "537e9cd7-05cd-452d-b244-1de80c905dcb",
        "colab": {
          "base_uri": "https://localhost:8080/",
          "height": 111
        }
      },
      "source": [
        ""
      ],
      "execution_count": null,
      "outputs": [
        {
          "output_type": "stream",
          "text": [
            "[0 0 0 0 0 0 0 0 0 0 0 0 0 0 0 0 0 0 0 0 0 0 0 0 0 0 0 0 0 0 0 0 0 0 0 0 0\n",
            " 0 0 0 0 0 0 0 0 0 0 0 0 0 0 0 0 0 0 0 0 0 0 1 1 1 1 1 1 1 1 1 1 1 1 1 1 1\n",
            " 1 1 1 1 1 1 1 1 1 1 1 1 1 1 1 1 1 1 1 1 1 1 1 1 1 1 1 1 1 1 1 1 1 1 1 1 1\n",
            " 1 1 1 1 1 1 1 1 1 1 1 1 1 1 1 1 1 1 1 2 2 2 2 2 2 2 2 2 2 2 2 2 2 2 2 2 2\n",
            " 2 2 2 2 2 2 2 2 2 2 2 2 2 2 2 2 2 2 2 2 2 2 2 2 2 2 2 2 2 2]\n"
          ],
          "name": "stdout"
        }
      ]
    },
    {
      "cell_type": "markdown",
      "metadata": {
        "id": "2CbXJoepATMI"
      },
      "source": [
        "TO DO: Split dataset into train and test sets, and print the shape of X_train, y_train, X_test and y_test"
      ]
    },
    {
      "cell_type": "code",
      "metadata": {
        "id": "WXswUsplL-vJ",
        "outputId": "4c74243c-feec-4af7-c2f2-6ca2f3379089",
        "colab": {
          "base_uri": "https://localhost:8080/",
          "height": 92
        }
      },
      "source": [
        ""
      ],
      "execution_count": null,
      "outputs": [
        {
          "output_type": "stream",
          "text": [
            "X_train.shape =  (133, 13)\n",
            "y_train.shape =  (133,)\n",
            "X_test.shape =  (45, 13)\n",
            "y_test.shape =  (45,)\n"
          ],
          "name": "stdout"
        }
      ]
    },
    {
      "cell_type": "markdown",
      "metadata": {
        "id": "lX1xxXFyDUMa"
      },
      "source": [
        "TO DO: Build a classifier for the wine dataset using LogisicRegression, and print the accuracy on the training and test data.\n"
      ]
    },
    {
      "cell_type": "code",
      "metadata": {
        "id": "u9sTOX_f1RTl",
        "outputId": "88dc1641-6608-4194-8406-76f193c64545",
        "colab": {
          "base_uri": "https://localhost:8080/",
          "height": 224
        }
      },
      "source": [
        ""
      ],
      "execution_count": null,
      "outputs": [
        {
          "output_type": "stream",
          "text": [
            "train score =  0.9699248120300752\n",
            "test score =  0.9555555555555556\n"
          ],
          "name": "stdout"
        },
        {
          "output_type": "stream",
          "text": [
            "/usr/local/lib/python3.6/dist-packages/sklearn/linear_model/_logistic.py:940: ConvergenceWarning: lbfgs failed to converge (status=1):\n",
            "STOP: TOTAL NO. of ITERATIONS REACHED LIMIT.\n",
            "\n",
            "Increase the number of iterations (max_iter) or scale the data as shown in:\n",
            "    https://scikit-learn.org/stable/modules/preprocessing.html\n",
            "Please also refer to the documentation for alternative solver options:\n",
            "    https://scikit-learn.org/stable/modules/linear_model.html#logistic-regression\n",
            "  extra_warning_msg=_LOGISTIC_SOLVER_CONVERGENCE_MSG)\n"
          ],
          "name": "stderr"
        }
      ]
    },
    {
      "cell_type": "markdown",
      "metadata": {
        "id": "RJiONBoRD58c"
      },
      "source": [
        "TO DO: Save the weight matrix and bias vector of the LogisticRegression instance as W_lr and b_lr. Then, print them."
      ]
    },
    {
      "cell_type": "code",
      "metadata": {
        "id": "Qh1T4ZYv5RL4",
        "outputId": "a5af38dc-63ee-449e-cc21-3369873c7549",
        "colab": {
          "base_uri": "https://localhost:8080/",
          "height": 260
        }
      },
      "source": [
        ""
      ],
      "execution_count": null,
      "outputs": [
        {
          "output_type": "stream",
          "text": [
            "W_lr =  [[-6.90183749e-02  2.38838439e-01  1.35507349e-01 -3.23757639e-01\n",
            "  -1.58243552e-02  1.73272770e-01  4.63287797e-01 -2.82546756e-02\n",
            "   9.66605888e-02 -3.89779937e-02  1.87265758e-03  3.90888766e-01\n",
            "   8.32988332e-03]\n",
            " [ 3.81189686e-01 -7.74891589e-01 -1.61892417e-01  1.57041175e-01\n",
            "   3.15868256e-02  2.53401642e-01  4.05285805e-01  2.78706704e-02\n",
            "   2.87958905e-01 -1.13109143e+00  2.17356447e-01  2.58113549e-01\n",
            "  -8.17270164e-03]\n",
            " [-3.12171311e-01  5.36053150e-01  2.63850677e-02  1.66716464e-01\n",
            "  -1.57624704e-02 -4.26674411e-01 -8.68573602e-01  3.84005123e-04\n",
            "  -3.84619493e-01  1.17006943e+00 -2.19229105e-01 -6.49002315e-01\n",
            "  -1.57181680e-04]]\n",
            "b_lr =  [-0.03764298  0.08568735 -0.04804437]\n"
          ],
          "name": "stdout"
        }
      ]
    },
    {
      "cell_type": "markdown",
      "metadata": {
        "id": "alKUm1U8Edmz"
      },
      "source": [
        "TO DO: Build a classifier for the wine dataset using LinearSVC, and print the accuracy on the training and test data."
      ]
    },
    {
      "cell_type": "code",
      "metadata": {
        "id": "Yyl-vVDQmD1N",
        "outputId": "37a82773-36fb-4d94-b233-63de0a5faca7",
        "colab": {
          "base_uri": "https://localhost:8080/",
          "height": 112
        }
      },
      "source": [
        ""
      ],
      "execution_count": null,
      "outputs": [
        {
          "output_type": "stream",
          "text": [
            "train score =  0.8345864661654135\n",
            "test score =  0.8666666666666667\n"
          ],
          "name": "stdout"
        },
        {
          "output_type": "stream",
          "text": [
            "/usr/local/lib/python3.6/dist-packages/sklearn/svm/_base.py:947: ConvergenceWarning: Liblinear failed to converge, increase the number of iterations.\n",
            "  \"the number of iterations.\", ConvergenceWarning)\n"
          ],
          "name": "stderr"
        }
      ]
    },
    {
      "cell_type": "markdown",
      "metadata": {
        "id": "xoUZ6HwWE35T"
      },
      "source": [
        "TO DO: Save the weight matrix and bias vector of the LinearSVC instance as W_svc and b_svc. Then, print them."
      ]
    },
    {
      "cell_type": "code",
      "metadata": {
        "id": "JxPkuSWsuoiV",
        "outputId": "8fb66888-19da-4a1c-ad11-d3971bd36ab6",
        "colab": {
          "base_uri": "https://localhost:8080/",
          "height": 260
        }
      },
      "source": [
        ""
      ],
      "execution_count": null,
      "outputs": [
        {
          "output_type": "stream",
          "text": [
            "W_svc =  [[-3.04431731e-02 -4.70176051e-03 -2.23258339e-03 -9.51132679e-02\n",
            "  -1.00380377e-02  5.87616869e-03  2.21786937e-02 -3.46972969e-03\n",
            "   5.32694549e-03 -2.55390968e-02 -6.26646432e-04  1.25945364e-02\n",
            "   5.03681548e-03]\n",
            " [ 4.39881601e-02 -8.95590213e-02 -6.63218274e-03  2.50774974e-02\n",
            "   8.06976802e-03  5.15129442e-02  8.40907851e-02  6.55661874e-04\n",
            "   4.51610809e-02 -1.81991195e-01  3.12879900e-02  7.94818910e-02\n",
            "  -9.64532559e-04]\n",
            " [-3.66546319e-02  8.77130954e-02  2.24122655e-03  1.47673978e-02\n",
            "  -6.54579140e-03 -7.04243074e-02 -1.30355257e-01  3.42072886e-03\n",
            "  -5.31964761e-02  2.09138458e-01 -3.39554880e-02 -1.04978348e-01\n",
            "  -1.95777357e-04]]\n",
            "b_svc =  [-0.00378211  0.00846829 -0.00615907]\n"
          ],
          "name": "stdout"
        }
      ]
    },
    {
      "cell_type": "markdown",
      "metadata": {
        "id": "fZk0kiO0Aiop"
      },
      "source": [
        "TO DO: Define a class __SimpleLinearClassifier__ composed of the following functions:\n",
        "\n",
        "* __\\_\\_init\\_\\___(self, weight, bias) - takes a weight matrix and a bias vector as input and stores them in instance variables\n",
        "\n",
        "* __predict(self, X)__ - takes an array of rank 2 as input, and returns the classification results as an array of rank 1\n",
        "\n",
        "* __probability(self, X)__ - takes an array of rank 2 as input and returns the probabilities that each sample belongs to each class as an array of rank 2. (You need to implement the softmax function to convert logits into probabilities.)\n",
        "\n",
        "* __score(self, X, y)__ - takes an input data (rank 2) and a target vector (rank 1) as input, and returns the accuracy as a scalar value.\n",
        "\n",
        "\n",
        "The __SimpleLinearClassifier__ should work as the following examples."
      ]
    },
    {
      "cell_type": "code",
      "metadata": {
        "id": "pDnCF1mjvFJA"
      },
      "source": [
        "# Define SimpleLienarClassfier here."
      ],
      "execution_count": null,
      "outputs": []
    },
    {
      "cell_type": "markdown",
      "metadata": {
        "id": "IuSYy99-FOAa"
      },
      "source": [
        "TO DO: Create a SimpleLinearClassfier instance simple_lr using W_lr and b_lr. Then, print the accuracy on the training and test data.<br>\n",
        "(The accuracies should be the same as those of the LogisticRegression instance.)"
      ]
    },
    {
      "cell_type": "code",
      "metadata": {
        "id": "MJFs7pAg6IOY",
        "outputId": "94ee7a98-fa53-4231-8cff-afdf15841506",
        "colab": {
          "base_uri": "https://localhost:8080/",
          "height": 55
        }
      },
      "source": [
        ""
      ],
      "execution_count": null,
      "outputs": [
        {
          "output_type": "stream",
          "text": [
            "train score =  0.9699248120300752\n",
            "test score =  0.9555555555555556\n"
          ],
          "name": "stdout"
        }
      ]
    },
    {
      "cell_type": "markdown",
      "metadata": {
        "id": "bhi2Zmx3FaPx"
      },
      "source": [
        "TO DO: Display the results of simple_lr.predict(X_test) along with y_test."
      ]
    },
    {
      "cell_type": "code",
      "metadata": {
        "id": "2laJOWR1GnmO",
        "outputId": "ff84990f-b6a1-44ce-ed19-14629da40b75",
        "colab": {
          "base_uri": "https://localhost:8080/",
          "height": 92
        }
      },
      "source": [
        ""
      ],
      "execution_count": null,
      "outputs": [
        {
          "output_type": "stream",
          "text": [
            "y_hat =  [2 1 0 1 0 2 1 0 2 1 0 1 1 0 1 1 2 0 1 0 0 1 1 1 0 2 0 0 0 2 1 2 2 0 1 1 1\n",
            " 1 1 0 0 1 2 0 0]\n",
            "y_test =  [2 1 0 1 0 2 1 0 2 1 0 0 1 0 1 1 2 0 1 0 0 1 2 1 0 2 0 0 0 2 1 2 2 0 1 1 1\n",
            " 1 1 0 0 1 2 0 0]\n"
          ],
          "name": "stdout"
        }
      ]
    },
    {
      "cell_type": "markdown",
      "metadata": {
        "id": "BfSGdKXfKAwJ"
      },
      "source": [
        "TO DO: Display the result of simple_lr.probability(X_test).\n",
        "Then, check whether the sum of each row makes one."
      ]
    },
    {
      "cell_type": "code",
      "metadata": {
        "id": "cFMpwp9IHSeH",
        "outputId": "89bfc738-c512-4145-f35c-9d162cca5f8a",
        "colab": {
          "base_uri": "https://localhost:8080/",
          "height": 895
        }
      },
      "source": [
        ""
      ],
      "execution_count": null,
      "outputs": [
        {
          "output_type": "stream",
          "text": [
            "prob =  [[1.48200456e-02 9.28649765e-03 9.75893457e-01]\n",
            " [8.91068465e-06 9.99984128e-01 6.96101500e-06]\n",
            " [9.83847281e-01 1.44912745e-02 1.66144417e-03]\n",
            " [9.98040267e-03 9.89929235e-01 9.03627342e-05]\n",
            " [9.99758755e-01 6.01176928e-06 2.35233424e-04]\n",
            " [6.74254766e-03 6.05841079e-03 9.87199042e-01]\n",
            " [8.11777340e-02 8.55399847e-01 6.34224190e-02]\n",
            " [9.99997753e-01 8.15269040e-09 2.23878964e-06]\n",
            " [2.89802307e-04 7.89238979e-05 9.99631274e-01]\n",
            " [1.15622806e-03 9.94139982e-01 4.70378979e-03]\n",
            " [9.99681701e-01 7.60003760e-05 2.42298572e-04]\n",
            " [1.50288613e-01 8.41316520e-01 8.39486679e-03]\n",
            " [8.15163901e-05 9.99896756e-01 2.17271802e-05]\n",
            " [9.99676153e-01 2.72277242e-04 5.15700225e-05]\n",
            " [5.19705540e-03 9.94655621e-01 1.47323769e-04]\n",
            " [4.00827074e-04 9.99191493e-01 4.07680147e-04]\n",
            " [8.76760694e-05 6.73491982e-02 9.32563126e-01]\n",
            " [9.05786687e-01 8.75293087e-02 6.68400445e-03]\n",
            " [9.74180831e-05 9.99603415e-01 2.99167274e-04]\n",
            " [9.99762975e-01 6.84972741e-07 2.36340192e-04]\n",
            " [9.99836246e-01 4.23938761e-05 1.21359900e-04]\n",
            " [3.49289015e-04 9.99388564e-01 2.62146844e-04]\n",
            " [2.37745521e-02 9.15943176e-01 6.02822721e-02]\n",
            " [7.33855355e-03 9.92373584e-01 2.87862363e-04]\n",
            " [9.12515319e-01 8.39274413e-02 3.55723997e-03]\n",
            " [3.43282297e-03 2.95014416e-02 9.67065735e-01]\n",
            " [9.97232736e-01 2.10414866e-03 6.63114991e-04]\n",
            " [9.96254811e-01 3.41465503e-03 3.30534164e-04]\n",
            " [9.98372093e-01 2.10004876e-04 1.41790182e-03]\n",
            " [2.98803838e-04 8.25660706e-06 9.99692940e-01]\n",
            " [4.29414502e-03 9.95618363e-01 8.74923078e-05]\n",
            " [2.00656408e-05 4.42634576e-07 9.99979492e-01]\n",
            " [4.78349346e-06 1.45714465e-06 9.99993759e-01]\n",
            " [9.99971932e-01 5.74552884e-07 2.74935802e-05]\n",
            " [6.96649510e-02 9.28972421e-01 1.36262804e-03]\n",
            " [9.54721965e-04 9.98823219e-01 2.22058962e-04]\n",
            " [1.06772212e-03 9.88358603e-01 1.05736751e-02]\n",
            " [3.40600661e-01 6.53030606e-01 6.36873243e-03]\n",
            " [1.56621380e-04 9.99705120e-01 1.38258770e-04]\n",
            " [9.92284088e-01 1.93088752e-03 5.78502482e-03]\n",
            " [9.96977465e-01 1.79505937e-03 1.22747553e-03]\n",
            " [4.31153560e-02 9.56098364e-01 7.86280024e-04]\n",
            " [2.23080623e-04 4.28143707e-04 9.99348776e-01]\n",
            " [9.76573022e-01 2.25962689e-02 8.30708683e-04]\n",
            " [9.92512225e-01 5.60085902e-03 1.88691627e-03]]\n",
            "The sum of rows =  [1. 1. 1. 1. 1. 1. 1. 1. 1. 1. 1. 1. 1. 1. 1. 1. 1. 1. 1. 1. 1. 1. 1. 1.\n",
            " 1. 1. 1. 1. 1. 1. 1. 1. 1. 1. 1. 1. 1. 1. 1. 1. 1. 1. 1. 1. 1.]\n"
          ],
          "name": "stdout"
        }
      ]
    },
    {
      "cell_type": "markdown",
      "metadata": {
        "id": "9FfCL3TlKWoQ"
      },
      "source": [
        "TO DO: Print the accuracy on the training and test data."
      ]
    },
    {
      "cell_type": "code",
      "metadata": {
        "id": "mpI7u0MTHXgN",
        "outputId": "af4c36d5-7f32-488e-ee06-4fd71868a65a",
        "colab": {
          "base_uri": "https://localhost:8080/",
          "height": 55
        }
      },
      "source": [
        ""
      ],
      "execution_count": null,
      "outputs": [
        {
          "output_type": "stream",
          "text": [
            "train score =  0.9699248120300752\n",
            "test score =  0.9555555555555556\n"
          ],
          "name": "stdout"
        }
      ]
    },
    {
      "cell_type": "markdown",
      "metadata": {
        "id": "mQTnq0KhGwf5"
      },
      "source": [
        "TO DO: Create a SimpleLinearClassfier instance simple_svc using W_svc and b_svc. Then, print the accuracy on the training and test data.<br>\n",
        "(The accuracies should be the same as those of the LinearSVC instance.)"
      ]
    },
    {
      "cell_type": "code",
      "metadata": {
        "id": "dyhGFRmS-6gc"
      },
      "source": [
        ""
      ],
      "execution_count": null,
      "outputs": []
    },
    {
      "cell_type": "markdown",
      "metadata": {
        "id": "TiX8oew5KlbY"
      },
      "source": [
        "TO DO: Display the results of simple_svc.predict(X_test) along with y_test."
      ]
    },
    {
      "cell_type": "code",
      "metadata": {
        "id": "j2PSAoU4yTEZ",
        "outputId": "6f1db806-2d06-4c7d-f516-1db7a67c053b",
        "colab": {
          "base_uri": "https://localhost:8080/",
          "height": 92
        }
      },
      "source": [
        ""
      ],
      "execution_count": null,
      "outputs": [
        {
          "output_type": "stream",
          "text": [
            "y_hat =  [1 1 0 1 0 1 1 0 2 1 0 1 1 0 1 1 1 0 1 0 0 1 1 1 0 1 0 0 0 2 1 2 2 0 1 1 1\n",
            " 1 1 0 0 1 2 0 0]\n",
            "y_test =  [2 1 0 1 0 2 1 0 2 1 0 0 1 0 1 1 2 0 1 0 0 1 2 1 0 2 0 0 0 2 1 2 2 0 1 1 1\n",
            " 1 1 0 0 1 2 0 0]\n"
          ],
          "name": "stdout"
        }
      ]
    },
    {
      "cell_type": "markdown",
      "metadata": {
        "id": "VykOf3HbLAYZ"
      },
      "source": [
        "TO DO: Display the result of simple_svc.probability(X_test).\n",
        "Then, check whether the sum of each row makes one."
      ]
    },
    {
      "cell_type": "code",
      "metadata": {
        "id": "Ad_Z4IP7FV6p",
        "outputId": "a152111b-782e-4a48-b7d7-7619512e8d55",
        "colab": {
          "base_uri": "https://localhost:8080/",
          "height": 895
        }
      },
      "source": [
        ""
      ],
      "execution_count": null,
      "outputs": [
        {
          "output_type": "stream",
          "text": [
            "prob =  [[0.27901498 0.41143696 0.30954806]\n",
            " [0.02587174 0.92406631 0.05006195]\n",
            " [0.59077911 0.33899802 0.07022287]\n",
            " [0.20172206 0.75591492 0.04236301]\n",
            " [0.96329595 0.02565883 0.01104522]\n",
            " [0.2257629  0.39341763 0.38081947]\n",
            " [0.20843821 0.64861848 0.1429433 ]\n",
            " [0.99340665 0.00397647 0.00261688]\n",
            " [0.14067056 0.29063541 0.56869404]\n",
            " [0.10196374 0.7607518  0.13728446]\n",
            " [0.95035456 0.03660345 0.01304199]\n",
            " [0.25634312 0.65412531 0.08953157]\n",
            " [0.04384445 0.88630706 0.06984849]\n",
            " [0.88158737 0.09648571 0.02192693]\n",
            " [0.15077007 0.77515043 0.0740795 ]\n",
            " [0.0817573  0.81962044 0.09862225]\n",
            " [0.04200625 0.60656587 0.35142788]\n",
            " [0.58882209 0.34146026 0.06971764]\n",
            " [0.03642169 0.8666048  0.09697351]\n",
            " [0.98162058 0.01145611 0.0069233 ]\n",
            " [0.94579479 0.04035944 0.01384577]\n",
            " [0.05093217 0.84951134 0.09955649]\n",
            " [0.21572233 0.64168667 0.14259101]\n",
            " [0.22303939 0.73874982 0.03821079]\n",
            " [0.4812966  0.43563029 0.0830731 ]\n",
            " [0.14724154 0.52523636 0.3275221 ]\n",
            " [0.78409637 0.16986264 0.04604099]\n",
            " [0.82686271 0.14177882 0.03135847]\n",
            " [0.90700568 0.07012782 0.0228665 ]\n",
            " [0.20577143 0.21793184 0.57629673]\n",
            " [0.13004186 0.78983081 0.08012733]\n",
            " [0.13789275 0.14300056 0.71910669]\n",
            " [0.06469113 0.20334012 0.73196875]\n",
            " [0.98116006 0.01290842 0.00593151]\n",
            " [0.21856561 0.700435   0.08099939]\n",
            " [0.06162238 0.85027874 0.08809888]\n",
            " [0.09011836 0.75500201 0.15487963]\n",
            " [0.38733203 0.51927067 0.09339731]\n",
            " [0.05296653 0.86097874 0.08605473]\n",
            " [0.80125316 0.1454301  0.05331674]\n",
            " [0.80954165 0.1511042  0.03935415]\n",
            " [0.32510425 0.58515137 0.08974439]\n",
            " [0.12068922 0.35293025 0.52638053]\n",
            " [0.47650215 0.44863933 0.07485852]\n",
            " [0.71523576 0.22823256 0.05653168]]\n",
            "prob.sum(axis = 1) =  [1. 1. 1. 1. 1. 1. 1. 1. 1. 1. 1. 1. 1. 1. 1. 1. 1. 1. 1. 1. 1. 1. 1. 1.\n",
            " 1. 1. 1. 1. 1. 1. 1. 1. 1. 1. 1. 1. 1. 1. 1. 1. 1. 1. 1. 1. 1.]\n"
          ],
          "name": "stdout"
        }
      ]
    },
    {
      "cell_type": "markdown",
      "metadata": {
        "id": "8tkrI3OVKcvI"
      },
      "source": [
        "TO DO: Print the accuracy on the training and test data."
      ]
    },
    {
      "cell_type": "code",
      "metadata": {
        "id": "7cZqFbAHyfqH",
        "outputId": "5452aa0a-ffc7-4120-b315-c4723310c69c",
        "colab": {
          "base_uri": "https://localhost:8080/",
          "height": 55
        }
      },
      "source": [
        ""
      ],
      "execution_count": null,
      "outputs": [
        {
          "output_type": "stream",
          "text": [
            "train score =  0.8345864661654135\n",
            "test score =  0.8666666666666667\n"
          ],
          "name": "stdout"
        }
      ]
    },
    {
      "cell_type": "code",
      "metadata": {
        "id": "1PiZ-DBQ7lkp"
      },
      "source": [
        ""
      ],
      "execution_count": null,
      "outputs": []
    }
  ]
}