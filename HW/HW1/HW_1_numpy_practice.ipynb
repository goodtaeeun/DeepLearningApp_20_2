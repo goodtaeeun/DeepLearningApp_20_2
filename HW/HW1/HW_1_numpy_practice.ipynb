{
  "nbformat": 4,
  "nbformat_minor": 0,
  "metadata": {
    "colab": {
      "name": "HW#1. numpy_practice.ipynb",
      "provenance": [],
      "collapsed_sections": []
    },
    "kernelspec": {
      "name": "python3",
      "display_name": "Python 3"
    }
  },
  "cells": [
    {
      "cell_type": "markdown",
      "metadata": {
        "id": "ih7yHYxosy_Z",
        "colab_type": "text"
      },
      "source": [
        "# numpy practice"
      ]
    },
    {
      "cell_type": "code",
      "metadata": {
        "id": "W1qShp-NfP2q",
        "colab_type": "code",
        "colab": {}
      },
      "source": [
        "import numpy as np\n",
        "np.set_printoptions(suppress = True)     # disable displaying in scientific form (e.g., 1.32847E2)"
      ],
      "execution_count": null,
      "outputs": []
    },
    {
      "cell_type": "markdown",
      "metadata": {
        "id": "Jr7utE1YoZ_K",
        "colab_type": "text"
      },
      "source": [
        "TO DO:\n",
        "Initialize random seed by current time.\n",
        "(use np.random.seed().)"
      ]
    },
    {
      "cell_type": "code",
      "metadata": {
        "id": "SRkvfWgXhsrm",
        "colab_type": "code",
        "colab": {}
      },
      "source": [
        ""
      ],
      "execution_count": null,
      "outputs": []
    },
    {
      "cell_type": "code",
      "metadata": {
        "id": "snoEVL9nXBhL",
        "colab_type": "code",
        "colab": {}
      },
      "source": [
        "# constants\n",
        "lower = 0\n",
        "upper = 100\n",
        "range = upper - lower\n",
        "bins = 10             # of bins in histogram"
      ],
      "execution_count": null,
      "outputs": []
    },
    {
      "cell_type": "markdown",
      "metadata": {
        "id": "ijIOPSYioyxc",
        "colab_type": "text"
      },
      "source": [
        "TO DO: Create an array A_data with 100 uniform random numbers in  [lower, upper) using np.random.random().\n",
        "\n",
        "Then, print A_data."
      ]
    },
    {
      "cell_type": "code",
      "metadata": {
        "id": "eCgTaN_RfRvq",
        "colab_type": "code",
        "colab": {
          "base_uri": "https://localhost:8080/",
          "height": 335
        },
        "outputId": "270fc1ac-6613-4f8c-d13a-5aed1a49c00a"
      },
      "source": [
        ""
      ],
      "execution_count": null,
      "outputs": [
        {
          "output_type": "stream",
          "text": [
            "[86.25636606 46.46220467 37.51802779 55.52453205 71.81550796 76.18228812\n",
            " 63.50030997 62.63563262  1.10846304  1.41918315 47.77899315 27.64639041\n",
            " 68.53311318 78.6484956  18.57745535 50.18760083 72.49978489 99.23123854\n",
            " 83.64253307 27.73873779  3.7225795   6.63595704 94.44292397 87.39804508\n",
            " 99.18600431 43.84955529 60.86724515 71.42396897 62.59957025 23.19576659\n",
            " 93.83619646 34.08856354 22.38312026 68.34194149 40.49512085  3.07396486\n",
            " 47.71078176 96.0969775  49.47114737 96.03622748  5.54365067 91.64681514\n",
            " 79.68382649 22.10148048 37.38897852 19.45329542 32.79770197 48.21768667\n",
            " 90.65914844 93.80430534 42.32370983 22.19701752 67.02739929 84.71725313\n",
            " 66.45317536 41.92785642 37.48135452 42.26374689 93.55693786 28.31289885\n",
            " 32.89689324 27.31798834 84.12049993  7.52817457 73.0238035  89.70817104\n",
            " 97.24050259 72.32440874 21.23820424 48.3798602  25.0973204  15.92449092\n",
            " 95.24125019 45.79094991 57.99731933  5.35898202  5.40185941 23.92116381\n",
            " 32.23611703 85.62612636  2.35801761 62.95186751 18.71988498 96.56048801\n",
            " 70.07312348 34.33355394 33.22166991 71.7803672  64.17408352 75.48342451\n",
            " 33.65549559 83.44633971 11.01099853 19.52353141 82.49446847 64.91136767\n",
            " 82.27013434 12.85912794  9.85185547  0.55222324]\n"
          ],
          "name": "stdout"
        }
      ]
    },
    {
      "cell_type": "markdown",
      "metadata": {
        "id": "KcCOzeabpbTb",
        "colab_type": "text"
      },
      "source": [
        "TO DO: Print the mean and standard deviation of A_data."
      ]
    },
    {
      "cell_type": "code",
      "metadata": {
        "id": "Y4eVtr37ST-I",
        "colab_type": "code",
        "colab": {
          "base_uri": "https://localhost:8080/",
          "height": 55
        },
        "outputId": "5fc28b75-f188-4267-9d3a-87cc7247ee51"
      },
      "source": [
        ""
      ],
      "execution_count": null,
      "outputs": [
        {
          "output_type": "stream",
          "text": [
            "mean of A =  51.05926863616617\n",
            "stdev of A =  30.09981298819972\n"
          ],
          "name": "stdout"
        }
      ]
    },
    {
      "cell_type": "markdown",
      "metadata": {
        "id": "IElTu4xTpkg7",
        "colab_type": "text"
      },
      "source": [
        "TO DO: Create an array A_label filled with zeros. The length of the array should be the same as A_data.\n",
        "\n",
        "Then, print A_label."
      ]
    },
    {
      "cell_type": "code",
      "metadata": {
        "id": "Lh36wMDESoCe",
        "colab_type": "code",
        "colab": {
          "base_uri": "https://localhost:8080/",
          "height": 111
        },
        "outputId": "8060f35d-6e4f-4eea-c8c7-2f239980dbf7"
      },
      "source": [
        ""
      ],
      "execution_count": null,
      "outputs": [
        {
          "output_type": "stream",
          "text": [
            "[0. 0. 0. 0. 0. 0. 0. 0. 0. 0. 0. 0. 0. 0. 0. 0. 0. 0. 0. 0. 0. 0. 0. 0.\n",
            " 0. 0. 0. 0. 0. 0. 0. 0. 0. 0. 0. 0. 0. 0. 0. 0. 0. 0. 0. 0. 0. 0. 0. 0.\n",
            " 0. 0. 0. 0. 0. 0. 0. 0. 0. 0. 0. 0. 0. 0. 0. 0. 0. 0. 0. 0. 0. 0. 0. 0.\n",
            " 0. 0. 0. 0. 0. 0. 0. 0. 0. 0. 0. 0. 0. 0. 0. 0. 0. 0. 0. 0. 0. 0. 0. 0.\n",
            " 0. 0. 0. 0.]\n"
          ],
          "name": "stdout"
        }
      ]
    },
    {
      "cell_type": "markdown",
      "metadata": {
        "id": "00LC6Dr5p9qD",
        "colab_type": "text"
      },
      "source": [
        "TO DO: Creat a 100x2 array A by concatenating A_data and A_label along horizontal axis.\n",
        "\n",
        "Then, print the first 10 rows of A."
      ]
    },
    {
      "cell_type": "code",
      "metadata": {
        "id": "_16Uhqd8TNGl",
        "colab_type": "code",
        "colab": {
          "base_uri": "https://localhost:8080/",
          "height": 204
        },
        "outputId": "7f1f730b-5da4-46ff-ed4a-0e9c7390fb0f"
      },
      "source": [
        ""
      ],
      "execution_count": null,
      "outputs": [
        {
          "output_type": "stream",
          "text": [
            "[[86.25636606  0.        ]\n",
            " [46.46220467  0.        ]\n",
            " [37.51802779  0.        ]\n",
            " [55.52453205  0.        ]\n",
            " [71.81550796  0.        ]\n",
            " [76.18228812  0.        ]\n",
            " [63.50030997  0.        ]\n",
            " [62.63563262  0.        ]\n",
            " [ 1.10846304  0.        ]\n",
            " [ 1.41918315  0.        ]]\n"
          ],
          "name": "stdout"
        }
      ]
    },
    {
      "cell_type": "markdown",
      "metadata": {
        "id": "CGKgpolfrR7c",
        "colab_type": "text"
      },
      "source": [
        "TO DO: Create an array B_data with 100 Gaussian random numbers $N(35, 10^2)$ using np.random.normal().\n",
        "\n",
        "Then, print B_data."
      ]
    },
    {
      "cell_type": "code",
      "metadata": {
        "id": "o3pa82FofV58",
        "colab_type": "code",
        "colab": {
          "base_uri": "https://localhost:8080/",
          "height": 335
        },
        "outputId": "39e99327-3867-481a-f237-998074622737"
      },
      "source": [
        ""
      ],
      "execution_count": null,
      "outputs": [
        {
          "output_type": "stream",
          "text": [
            "[23.32313203 33.65120127 44.51069348 40.51542805 43.10099827 24.16504547\n",
            " 29.80394991 57.36249971 39.63461568 37.35439622 41.99350666 41.90144903\n",
            " 54.13599043 37.02720516 26.48146942 35.23027962 48.43819731 37.2972772\n",
            " 44.28007484 29.08787743 45.90394152 20.56501987 34.28061007 50.59679269\n",
            " 37.49793199 27.75032658 50.14253913 19.96171137 37.98758084 58.8946749\n",
            " 38.14667731 38.37404779 66.36044799 44.42162629 39.07839683 38.21585947\n",
            "  3.11296639 39.89572464 25.59148439 15.9242262  14.61543969 33.3804658\n",
            " 38.90935822 26.66946453 41.84761398 42.69915433 22.48297406 36.49962469\n",
            " 33.62961837 40.16370315 38.50588705 59.43190156 39.88096979 29.56544996\n",
            " 30.28561829 41.2032851  36.96595352 32.54633775 37.48772836 42.80542402\n",
            " 34.23766283 30.02693502 46.834393   31.03370512 32.30765174 26.4459462\n",
            " 34.29578493 34.80040515 39.40754696 32.57694671 45.35754822 28.50587908\n",
            " 48.36767575 27.21006524 18.92683705 37.94238059 42.8044582  37.71098309\n",
            " 32.266864   31.42578762 34.49386193 31.74570454 37.81874305 49.77391951\n",
            " 40.76717814 35.41807175 37.59579901 24.84993934 36.67929374 28.51280268\n",
            " 40.43600843 47.61927316 43.97408268 41.02351354 48.99336393 30.74599571\n",
            " 47.14599064 33.377921   37.68941635 41.41806246]\n"
          ],
          "name": "stdout"
        }
      ]
    },
    {
      "cell_type": "markdown",
      "metadata": {
        "id": "_Ru5YxOwugfw",
        "colab_type": "text"
      },
      "source": [
        "TO DO: Print the mean and standard deviation of B_data."
      ]
    },
    {
      "cell_type": "code",
      "metadata": {
        "id": "nXLdu1_TSxvc",
        "colab_type": "code",
        "colab": {
          "base_uri": "https://localhost:8080/",
          "height": 55
        },
        "outputId": "f7464df2-ba8e-4032-fda4-344f28223ced"
      },
      "source": [
        ""
      ],
      "execution_count": null,
      "outputs": [
        {
          "output_type": "stream",
          "text": [
            "mean of B =  36.84138243760486\n",
            "stdev of B =  9.77446238200552\n"
          ],
          "name": "stdout"
        }
      ]
    },
    {
      "cell_type": "markdown",
      "metadata": {
        "id": "E2R8jP0VukUv",
        "colab_type": "text"
      },
      "source": [
        "TO DO: Create an array B_label filled with ones. The length of the array should be the same as B_data.\n",
        "\n",
        "Then, print B_label."
      ]
    },
    {
      "cell_type": "code",
      "metadata": {
        "id": "OgsvTKwlSvUF",
        "colab_type": "code",
        "colab": {
          "base_uri": "https://localhost:8080/",
          "height": 111
        },
        "outputId": "e682b557-27bf-4671-d5fa-79fa6cdac3a9"
      },
      "source": [
        ""
      ],
      "execution_count": null,
      "outputs": [
        {
          "output_type": "stream",
          "text": [
            "[1. 1. 1. 1. 1. 1. 1. 1. 1. 1. 1. 1. 1. 1. 1. 1. 1. 1. 1. 1. 1. 1. 1. 1.\n",
            " 1. 1. 1. 1. 1. 1. 1. 1. 1. 1. 1. 1. 1. 1. 1. 1. 1. 1. 1. 1. 1. 1. 1. 1.\n",
            " 1. 1. 1. 1. 1. 1. 1. 1. 1. 1. 1. 1. 1. 1. 1. 1. 1. 1. 1. 1. 1. 1. 1. 1.\n",
            " 1. 1. 1. 1. 1. 1. 1. 1. 1. 1. 1. 1. 1. 1. 1. 1. 1. 1. 1. 1. 1. 1. 1. 1.\n",
            " 1. 1. 1. 1.]\n"
          ],
          "name": "stdout"
        }
      ]
    },
    {
      "cell_type": "markdown",
      "metadata": {
        "id": "ujWuWumLup7n",
        "colab_type": "text"
      },
      "source": [
        "TO DO: Creat a 100x2 array B by concatenating B_data and B_label along horizontal axis.\n",
        "\n",
        "Then, print the first 10 rows of B."
      ]
    },
    {
      "cell_type": "code",
      "metadata": {
        "id": "qfFQePcif4O5",
        "colab_type": "code",
        "colab": {
          "base_uri": "https://localhost:8080/",
          "height": 204
        },
        "outputId": "2baea7a1-3c61-49ad-8ec4-e4c6ded34f68"
      },
      "source": [
        ""
      ],
      "execution_count": null,
      "outputs": [
        {
          "output_type": "stream",
          "text": [
            "[[23.32313203  1.        ]\n",
            " [33.65120127  1.        ]\n",
            " [44.51069348  1.        ]\n",
            " [40.51542805  1.        ]\n",
            " [43.10099827  1.        ]\n",
            " [24.16504547  1.        ]\n",
            " [29.80394991  1.        ]\n",
            " [57.36249971  1.        ]\n",
            " [39.63461568  1.        ]\n",
            " [37.35439622  1.        ]]\n"
          ],
          "name": "stdout"
        }
      ]
    },
    {
      "cell_type": "markdown",
      "metadata": {
        "id": "mhWAsTTJutAp",
        "colab_type": "text"
      },
      "source": [
        "TO DO: Print the histograms of A_data and B_data using np.hisogram(). The histograms have 10 bins and its range is from lower to upper.\n",
        "\n",
        "Then, display the two histograms"
      ]
    },
    {
      "cell_type": "code",
      "metadata": {
        "id": "fucquM2HgXHl",
        "colab_type": "code",
        "colab": {
          "base_uri": "https://localhost:8080/",
          "height": 75
        },
        "outputId": "05b98d5c-dbac-495c-99b8-a697870cfcba"
      },
      "source": [
        ""
      ],
      "execution_count": null,
      "outputs": [
        {
          "output_type": "stream",
          "text": [
            "(array([12,  7, 11, 10, 12,  3, 11, 11, 10, 13]), array([  0.,  10.,  20.,  30.,  40.,  50.,  60.,  70.,  80.,  90., 100.]))\n",
            "(array([ 1,  4, 16, 45, 27,  6,  1,  0,  0,  0]), array([  0.,  10.,  20.,  30.,  40.,  50.,  60.,  70.,  80.,  90., 100.]))\n"
          ],
          "name": "stdout"
        }
      ]
    },
    {
      "cell_type": "markdown",
      "metadata": {
        "id": "YmQzkVPjwlom",
        "colab_type": "text"
      },
      "source": [
        "TO DO: Create a 200x2 array D by concatenating A and B.\n",
        "\n",
        "Shuffle the rows of D using np.rand.shuffle().\n",
        "\n",
        "Then, display the first 20 rows of D.\n"
      ]
    },
    {
      "cell_type": "code",
      "metadata": {
        "id": "G5q66edGj6AA",
        "colab_type": "code",
        "colab": {
          "base_uri": "https://localhost:8080/",
          "height": 391
        },
        "outputId": "64e3026c-1fe4-44ca-e7e8-b292bfb5edd9"
      },
      "source": [
        ""
      ],
      "execution_count": null,
      "outputs": [
        {
          "output_type": "stream",
          "text": [
            "[[12.85912794  0.        ]\n",
            " [23.92116381  0.        ]\n",
            " [44.51069348  1.        ]\n",
            " [40.43600843  1.        ]\n",
            " [75.48342451  0.        ]\n",
            " [27.31798834  0.        ]\n",
            " [63.50030997  0.        ]\n",
            " [30.74599571  1.        ]\n",
            " [49.77391951  1.        ]\n",
            " [62.63563262  0.        ]\n",
            " [66.36044799  1.        ]\n",
            " [46.46220467  0.        ]\n",
            " [37.98758084  1.        ]\n",
            " [47.61927316  1.        ]\n",
            " [37.48135452  0.        ]\n",
            " [28.31289885  0.        ]\n",
            " [41.41806246  1.        ]\n",
            " [25.59148439  1.        ]\n",
            " [34.23766283  1.        ]\n",
            " [50.18760083  0.        ]]\n"
          ],
          "name": "stdout"
        }
      ]
    },
    {
      "cell_type": "markdown",
      "metadata": {
        "id": "3k8h_4s8s51Y",
        "colab_type": "text"
      },
      "source": [
        "# matplotlib practice"
      ]
    },
    {
      "cell_type": "code",
      "metadata": {
        "id": "WiNLBgc_WGlg",
        "colab_type": "code",
        "colab": {}
      },
      "source": [
        "import matplotlib.pyplot as plt"
      ],
      "execution_count": null,
      "outputs": []
    },
    {
      "cell_type": "markdown",
      "metadata": {
        "id": "aB1ajjRLx5vx",
        "colab_type": "text"
      },
      "source": [
        "TO DO: draw the histograms of A_data and B_data as the following example. Use plt.subplot() and plt.hist().\n",
        "\n",
        "The histograms have 10 bins and their ranges are [0, 100)."
      ]
    },
    {
      "cell_type": "code",
      "metadata": {
        "id": "fqxnTeUCXsdQ",
        "colab_type": "code",
        "colab": {
          "base_uri": "https://localhost:8080/",
          "height": 321
        },
        "outputId": "65452f9b-3588-4f82-deb4-3267048e0b54"
      },
      "source": [
        ""
      ],
      "execution_count": null,
      "outputs": [
        {
          "output_type": "execute_result",
          "data": {
            "text/plain": [
              "(array([ 1.,  4., 16., 45., 27.,  6.,  1.,  0.,  0.,  0.]),\n",
              " array([  0.,  10.,  20.,  30.,  40.,  50.,  60.,  70.,  80.,  90., 100.]),\n",
              " <a list of 10 Patch objects>)"
            ]
          },
          "metadata": {
            "tags": []
          },
          "execution_count": 15
        },
        {
          "output_type": "display_data",
          "data": {
            "image/png": "[encoded data removed]",
            "text/plain": [
              "<Figure size 432x288 with 2 Axes>"
            ]
          },
          "metadata": {
            "tags": [],
            "needs_background": "light"
          }
        }
      ]
    },
    {
      "cell_type": "markdown",
      "metadata": {
        "id": "oBVpO8ABy9k2",
        "colab_type": "text"
      },
      "source": [
        "TO DO: draw the histogram of the first column of D. Use [] and : operators to retrieve the first column of D."
      ]
    },
    {
      "cell_type": "code",
      "metadata": {
        "id": "dxt1vJO-mwmZ",
        "colab_type": "code",
        "colab": {
          "base_uri": "https://localhost:8080/",
          "height": 321
        },
        "outputId": "63c5111b-f7be-425b-cbb4-1faccb88e9f5"
      },
      "source": [
        ""
      ],
      "execution_count": null,
      "outputs": [
        {
          "output_type": "execute_result",
          "data": {
            "text/plain": [
              "(array([13., 11., 27., 55., 39.,  9., 12., 11., 10., 13.]),\n",
              " array([  0.,  10.,  20.,  30.,  40.,  50.,  60.,  70.,  80.,  90., 100.]),\n",
              " <a list of 10 Patch objects>)"
            ]
          },
          "metadata": {
            "tags": []
          },
          "execution_count": 16
        },
        {
          "output_type": "display_data",
          "data": {
            "image/png": "[encoded data removed]",
            "text/plain": [
              "<Figure size 432x288 with 1 Axes>"
            ]
          },
          "metadata": {
            "tags": [],
            "needs_background": "light"
          }
        }
      ]
    },
    {
      "cell_type": "markdown",
      "metadata": {
        "id": "wdGGKkq-s_iQ",
        "colab_type": "text"
      },
      "source": [
        "# pandas practice"
      ]
    },
    {
      "cell_type": "code",
      "metadata": {
        "id": "-7N4o7U3tDC5",
        "colab_type": "code",
        "colab": {}
      },
      "source": [
        "import pandas as pd"
      ],
      "execution_count": null,
      "outputs": []
    },
    {
      "cell_type": "markdown",
      "metadata": {
        "id": "cuxz3JcN1CHF",
        "colab_type": "text"
      },
      "source": [
        "TO DO: create a DataFrame df from numpy array D. Set the column names by ['X', 'Y']"
      ]
    },
    {
      "cell_type": "code",
      "metadata": {
        "id": "zyCMfzbPtFVN",
        "colab_type": "code",
        "colab": {}
      },
      "source": [
        ""
      ],
      "execution_count": null,
      "outputs": []
    },
    {
      "cell_type": "markdown",
      "metadata": {
        "id": "pWOytaKK1QuE",
        "colab_type": "text"
      },
      "source": [
        "TO DO: display count, mean, std, and the five-number summary using describe()."
      ]
    },
    {
      "cell_type": "code",
      "metadata": {
        "id": "talpQMmvtOHd",
        "colab_type": "code",
        "colab": {
          "base_uri": "https://localhost:8080/",
          "height": 294
        },
        "outputId": "41cf6100-eda6-4658-ca31-c7680172f008"
      },
      "source": [
        ""
      ],
      "execution_count": null,
      "outputs": [
        {
          "output_type": "execute_result",
          "data": {
            "text/html": [
              "<div>\n",
              "<style scoped>\n",
              "    .dataframe tbody tr th:only-of-type {\n",
              "        vertical-align: middle;\n",
              "    }\n",
              "\n",
              "    .dataframe tbody tr th {\n",
              "        vertical-align: top;\n",
              "    }\n",
              "\n",
              "    .dataframe thead th {\n",
              "        text-align: right;\n",
              "    }\n",
              "</style>\n",
              "<table border=\"1\" class=\"dataframe\">\n",
              "  <thead>\n",
              "    <tr style=\"text-align: right;\">\n",
              "      <th></th>\n",
              "      <th>X</th>\n",
              "      <th>Y</th>\n",
              "    </tr>\n",
              "  </thead>\n",
              "  <tbody>\n",
              "    <tr>\n",
              "      <th>count</th>\n",
              "      <td>200.000000</td>\n",
              "      <td>200.000000</td>\n",
              "    </tr>\n",
              "    <tr>\n",
              "      <th>mean</th>\n",
              "      <td>43.950326</td>\n",
              "      <td>0.500000</td>\n",
              "    </tr>\n",
              "    <tr>\n",
              "      <th>std</th>\n",
              "      <td>23.538838</td>\n",
              "      <td>0.501255</td>\n",
              "    </tr>\n",
              "    <tr>\n",
              "      <th>min</th>\n",
              "      <td>0.552223</td>\n",
              "      <td>0.000000</td>\n",
              "    </tr>\n",
              "    <tr>\n",
              "      <th>25%</th>\n",
              "      <td>29.744325</td>\n",
              "      <td>0.000000</td>\n",
              "    </tr>\n",
              "    <tr>\n",
              "      <th>50%</th>\n",
              "      <td>38.707623</td>\n",
              "      <td>0.500000</td>\n",
              "    </tr>\n",
              "    <tr>\n",
              "      <th>75%</th>\n",
              "      <td>55.984024</td>\n",
              "      <td>1.000000</td>\n",
              "    </tr>\n",
              "    <tr>\n",
              "      <th>max</th>\n",
              "      <td>99.231239</td>\n",
              "      <td>1.000000</td>\n",
              "    </tr>\n",
              "  </tbody>\n",
              "</table>\n",
              "</div>"
            ],
            "text/plain": [
              "                X           Y\n",
              "count  200.000000  200.000000\n",
              "mean    43.950326    0.500000\n",
              "std     23.538838    0.501255\n",
              "min      0.552223    0.000000\n",
              "25%     29.744325    0.000000\n",
              "50%     38.707623    0.500000\n",
              "75%     55.984024    1.000000\n",
              "max     99.231239    1.000000"
            ]
          },
          "metadata": {
            "tags": []
          },
          "execution_count": 19
        }
      ]
    },
    {
      "cell_type": "markdown",
      "metadata": {
        "id": "QKZQDF1T10v1",
        "colab_type": "text"
      },
      "source": [
        "TO DO: draw the histogram of df using hist().\n",
        "\n"
      ]
    },
    {
      "cell_type": "code",
      "metadata": {
        "id": "bS4o_1DbtRtD",
        "colab_type": "code",
        "colab": {
          "base_uri": "https://localhost:8080/",
          "height": 337
        },
        "outputId": "40ae566f-901f-4cb0-efe4-dfef4a343c99"
      },
      "source": [
        ""
      ],
      "execution_count": null,
      "outputs": [
        {
          "output_type": "execute_result",
          "data": {
            "text/plain": [
              "array([[<matplotlib.axes._subplots.AxesSubplot object at 0x7f05b219fcf8>,\n",
              "        <matplotlib.axes._subplots.AxesSubplot object at 0x7f05b21cff98>]],\n",
              "      dtype=object)"
            ]
          },
          "metadata": {
            "tags": []
          },
          "execution_count": 20
        },
        {
          "output_type": "display_data",
          "data": {
            "image/png": "[encoded data removed]",
            "text/plain": [
              "<Figure size 432x288 with 2 Axes>"
            ]
          },
          "metadata": {
            "tags": [],
            "needs_background": "light"
          }
        }
      ]
    },
    {
      "cell_type": "markdown",
      "metadata": {
        "id": "wFTNVi6n1-Pz",
        "colab_type": "text"
      },
      "source": [
        "TO DO: draw the scatter matrix of df using pd.plotting.scatter_matrix()."
      ]
    },
    {
      "cell_type": "code",
      "metadata": {
        "id": "ep6oKZSSzx-J",
        "colab_type": "code",
        "colab": {
          "base_uri": "https://localhost:8080/",
          "height": 383
        },
        "outputId": "877c4b5f-8846-4deb-9c32-5ecba5723623"
      },
      "source": [
        ""
      ],
      "execution_count": null,
      "outputs": [
        {
          "output_type": "execute_result",
          "data": {
            "text/plain": [
              "array([[<matplotlib.axes._subplots.AxesSubplot object at 0x7f05b2112da0>,\n",
              "        <matplotlib.axes._subplots.AxesSubplot object at 0x7f05b20b8e48>],\n",
              "       [<matplotlib.axes._subplots.AxesSubplot object at 0x7f05b20780b8>,\n",
              "        <matplotlib.axes._subplots.AxesSubplot object at 0x7f05b2029320>]],\n",
              "      dtype=object)"
            ]
          },
          "metadata": {
            "tags": []
          },
          "execution_count": 21
        },
        {
          "output_type": "display_data",
          "data": {
            "image/png": "[encoded data removed]",
            "text/plain": [
              "<Figure size 432x288 with 4 Axes>"
            ]
          },
          "metadata": {
            "tags": [],
            "needs_background": "light"
          }
        }
      ]
    },
    {
      "cell_type": "markdown",
      "metadata": {
        "id": "wPaczh1I2MA8",
        "colab_type": "text"
      },
      "source": [
        "TO DO: save df into a text file './D.csv'."
      ]
    },
    {
      "cell_type": "code",
      "metadata": {
        "id": "AbrweN1Xz3U_",
        "colab_type": "code",
        "colab": {}
      },
      "source": [
        ""
      ],
      "execution_count": null,
      "outputs": []
    },
    {
      "cell_type": "markdown",
      "metadata": {
        "id": "-BfJufls2SkM",
        "colab_type": "text"
      },
      "source": [
        "TO DO: display the file list of the current directory to check D.csv was successfully created"
      ]
    },
    {
      "cell_type": "code",
      "metadata": {
        "id": "BG7CKek-0Isq",
        "colab_type": "code",
        "colab": {
          "base_uri": "https://localhost:8080/",
          "height": 36
        },
        "outputId": "a99be85b-8a71-421c-f47b-da08e20f1e83"
      },
      "source": [
        ""
      ],
      "execution_count": null,
      "outputs": [
        {
          "output_type": "stream",
          "text": [
            "D.csv  sample_data\n"
          ],
          "name": "stdout"
        }
      ]
    },
    {
      "cell_type": "markdown",
      "metadata": {
        "id": "CEwPwFBj2cwd",
        "colab_type": "text"
      },
      "source": [
        "TO DO: display the first 20 lines of D.csv using the UNIX command 'head'."
      ]
    },
    {
      "cell_type": "code",
      "metadata": {
        "id": "OsN7VJNH0bzY",
        "colab_type": "code",
        "colab": {
          "base_uri": "https://localhost:8080/",
          "height": 391
        },
        "outputId": "86683192-2630-4221-d478-70c6cef6f909"
      },
      "source": [
        ""
      ],
      "execution_count": null,
      "outputs": [
        {
          "output_type": "stream",
          "text": [
            ",X,Y\n",
            "0,12.859127944460125,0.0\n",
            "1,23.9211638054737,0.0\n",
            "2,44.51069347555704,1.0\n",
            "3,40.43600842767037,1.0\n",
            "4,75.4834245133307,0.0\n",
            "5,27.317988344058797,0.0\n",
            "6,63.50030997235149,0.0\n",
            "7,30.745995712061696,1.0\n",
            "8,49.77391951255912,1.0\n",
            "9,62.635632617556865,0.0\n",
            "10,66.36044799066319,1.0\n",
            "11,46.46220467402058,0.0\n",
            "12,37.98758084304246,1.0\n",
            "13,47.6192731569109,1.0\n",
            "14,37.48135452214837,0.0\n",
            "15,28.31289884963615,0.0\n",
            "16,41.41806245957821,1.0\n",
            "17,25.591484389741844,1.0\n",
            "18,34.23766283463927,1.0\n"
          ],
          "name": "stdout"
        }
      ]
    }
  ]
}