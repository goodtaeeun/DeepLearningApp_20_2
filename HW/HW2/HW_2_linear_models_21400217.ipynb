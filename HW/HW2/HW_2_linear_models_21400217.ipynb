{
  "nbformat": 4,
  "nbformat_minor": 0,
  "metadata": {
    "colab": {
      "name": "HW_2_linear_models_21400217.ipynb",
      "provenance": [],
      "collapsed_sections": []
    },
    "kernelspec": {
      "name": "python3",
      "display_name": "Python 3"
    }
  },
  "cells": [
    {
      "cell_type": "code",
      "metadata": {
        "id": "mq2U3jlEzhgM",
        "outputId": "62489464-f4c3-45d7-ca89-df3e3341a978",
        "colab": {
          "base_uri": "https://localhost:8080/",
          "height": 281
        }
      },
      "source": [
        "import random\n",
        "import numpy as np\n",
        "import sklearn as sk\n",
        "import matplotlib.pyplot as plt\n",
        "\n",
        "!pip install mglearn\n",
        "import mglearn"
      ],
      "execution_count": null,
      "outputs": [
        {
          "output_type": "stream",
          "text": [
            "Requirement already satisfied: mglearn in /usr/local/lib/python3.6/dist-packages (0.1.9)\n",
            "Requirement already satisfied: imageio in /usr/local/lib/python3.6/dist-packages (from mglearn) (2.4.1)\n",
            "Requirement already satisfied: joblib in /usr/local/lib/python3.6/dist-packages (from mglearn) (0.16.0)\n",
            "Requirement already satisfied: pandas in /usr/local/lib/python3.6/dist-packages (from mglearn) (1.1.2)\n",
            "Requirement already satisfied: cycler in /usr/local/lib/python3.6/dist-packages (from mglearn) (0.10.0)\n",
            "Requirement already satisfied: pillow in /usr/local/lib/python3.6/dist-packages (from mglearn) (7.0.0)\n",
            "Requirement already satisfied: matplotlib in /usr/local/lib/python3.6/dist-packages (from mglearn) (3.2.2)\n",
            "Requirement already satisfied: scikit-learn in /usr/local/lib/python3.6/dist-packages (from mglearn) (0.22.2.post1)\n",
            "Requirement already satisfied: numpy in /usr/local/lib/python3.6/dist-packages (from mglearn) (1.18.5)\n",
            "Requirement already satisfied: pytz>=2017.2 in /usr/local/lib/python3.6/dist-packages (from pandas->mglearn) (2018.9)\n",
            "Requirement already satisfied: python-dateutil>=2.7.3 in /usr/local/lib/python3.6/dist-packages (from pandas->mglearn) (2.8.1)\n",
            "Requirement already satisfied: six in /usr/local/lib/python3.6/dist-packages (from cycler->mglearn) (1.15.0)\n",
            "Requirement already satisfied: pyparsing!=2.0.4,!=2.1.2,!=2.1.6,>=2.0.1 in /usr/local/lib/python3.6/dist-packages (from matplotlib->mglearn) (2.4.7)\n",
            "Requirement already satisfied: kiwisolver>=1.0.1 in /usr/local/lib/python3.6/dist-packages (from matplotlib->mglearn) (1.2.0)\n",
            "Requirement already satisfied: scipy>=0.17.0 in /usr/local/lib/python3.6/dist-packages (from scikit-learn->mglearn) (1.4.1)\n"
          ],
          "name": "stdout"
        }
      ]
    },
    {
      "cell_type": "markdown",
      "metadata": {
        "id": "R8xBOFkal5mc"
      },
      "source": [
        "## Logistic Regression"
      ]
    },
    {
      "cell_type": "markdown",
      "metadata": {
        "id": "UzyJaNAgeLmV"
      },
      "source": [
        "TO DO: define two functions GetClass1(X) and GetClass2(X)\n",
        "\n",
        "* GetClass1(X) returns (X * 0.5 + np.abs(np.sin(X * np.pi / 180)) * 180 + np.random.normal(0, 30, len(X)))\n",
        "* GetClass2(X) returns (X * 0.5 + 50 - np.abs(np.cos(X * np.pi / 180)) * 180 + np.random.normal(0, 30, len(X)))\n"
      ]
    },
    {
      "cell_type": "code",
      "metadata": {
        "id": "hZTqwAY2QFRH"
      },
      "source": [
        "def GetClass1(X):\n",
        "    return (X * 0.5 + np.abs(np.sin(X * np.pi / 180)) * 180 + np.random.normal(0, 30, len(X)))\n",
        "\n",
        "def GetClass2(X):\n",
        "    return (X * 0.5 + 50 - np.abs(np.cos(X * np.pi / 180)) * 180 + np.random.normal(0, 30, len(X)))"
      ],
      "execution_count": null,
      "outputs": []
    },
    {
      "cell_type": "markdown",
      "metadata": {
        "id": "r3HMkcy1edaD"
      },
      "source": [
        "TO DO:\n",
        "* Set random seed by 12 using np.random.seed()\n",
        "* Create an array composed of 100 numbers from 0 to 360\n",
        "* Draw plot using X and GetClass1(X)\n",
        "* Draw plot using X and GetClass2(X)"
      ]
    },
    {
      "cell_type": "code",
      "metadata": {
        "id": "MoL1imvLkTmW",
        "outputId": "383825b2-010a-4037-c00a-0790d54b6eb5",
        "colab": {
          "base_uri": "https://localhost:8080/",
          "height": 265
        }
      },
      "source": [
        "np.random.seed(12)\n",
        "X = np.linspace(0,360,100)\n",
        "\n",
        "plt.plot(X, GetClass1(X))\n",
        "plt.plot(X, GetClass2(X))\n",
        "\n",
        "plt.show()"
      ],
      "execution_count": null,
      "outputs": [
        {
          "output_type": "display_data",
          "data": {
            "image/png": "[encoded data removed]",
            "text/plain": [
              "<Figure size 432x288 with 1 Axes>"
            ]
          },
          "metadata": {
            "tags": [],
            "needs_background": "light"
          }
        }
      ]
    },
    {
      "cell_type": "markdown",
      "metadata": {
        "id": "1jyoWlHDfSgE"
      },
      "source": [
        "TO DO: Create class 1 samples\n",
        "* Create an array $x_{11}$ composed of 50 random numbers between 0 and 360.\n",
        "* Create an array $x_{12}$ by GetClass1($x_{11}$).\n",
        "* Create an array $y_1$ of size 50 filled with zeros.\n",
        "* Combine $x_{11}$, $x_{12}$ and $y_1$ to make a 50x3 array $d_1$. (Use np.expand_dims() and np.concatenate().)\n",
        "* print the first 10 rows of $d_1$"
      ]
    },
    {
      "cell_type": "code",
      "metadata": {
        "id": "jXMDSO-HlL5J",
        "outputId": "377507d3-e6da-4e13-e55a-f8c82eb9702f",
        "colab": {
          "base_uri": "https://localhost:8080/",
          "height": 193
        }
      },
      "source": [
        "x11 = np.random.random(50)*360\n",
        "x12 = GetClass1(x11)\n",
        "y1 = np.zeros(50)\n",
        "\n",
        "d1 = np.concatenate((np.expand_dims(x11, 1), np.expand_dims(x12,1), np.expand_dims(y1, 1)), 1)\n",
        "\n",
        "print (\"d1 =\", d1[:10,:])"
      ],
      "execution_count": null,
      "outputs": [
        {
          "output_type": "stream",
          "text": [
            "d1 = [[ 13.658839    56.07105357   0.        ]\n",
            " [ 55.80406329 141.87970265   0.        ]\n",
            " [ 61.43364224  98.32685969   0.        ]\n",
            " [277.312394   335.01132799   0.        ]\n",
            " [ 86.11147478 232.58314643   0.        ]\n",
            " [268.9812314  282.27771924   0.        ]\n",
            " [125.09790647 248.50314149   0.        ]\n",
            " [238.03681255 269.16267577   0.        ]\n",
            " [235.63943994 252.1114025    0.        ]\n",
            " [ 83.87133944 191.99547334   0.        ]]\n"
          ],
          "name": "stdout"
        }
      ]
    },
    {
      "cell_type": "markdown",
      "metadata": {
        "id": "PAouMCjwg9yR"
      },
      "source": [
        "TO DO: Create class 2 samples\n",
        "* Create an array $x_{21}$ composed of 50 random numbers between 0 and 360.\n",
        "* Create an array $x_{22}$ by GetClass2($x_{21}$).\n",
        "* Create an array $y_2$ of size 50 filled with ones.\n",
        "* Combine $x_{21}$, $x_{22}$ and $y_2$ to make a 50x3 array $d_2$. (Use np.expand_dims() and np.concatenate().)\n",
        "* print the first 10 rows of $d_2$"
      ]
    },
    {
      "cell_type": "code",
      "metadata": {
        "id": "iBKqAxf5fZT6",
        "outputId": "994ce9cf-7112-4a07-d7ad-3b3277cf5c25",
        "colab": {
          "base_uri": "https://localhost:8080/",
          "height": 193
        }
      },
      "source": [
        "x21 = np.random.random(50)*360\n",
        "x22 = GetClass2(x21)\n",
        "y2 = np.ones(50)\n",
        "\n",
        "d2 = np.concatenate((np.expand_dims(x21, 1), np.expand_dims(x22,1), np.expand_dims(y2, 1)), 1)\n",
        "\n",
        "print (\"d2 =\", d2[:10,:])"
      ],
      "execution_count": null,
      "outputs": [
        {
          "output_type": "stream",
          "text": [
            "d2 = [[202.11365676  -4.40781031   1.        ]\n",
            " [ 37.11143784 -80.78783649   1.        ]\n",
            " [112.07735169  22.29304467   1.        ]\n",
            " [290.47736536 158.97892151   1.        ]\n",
            " [174.97262355 -53.99433601   1.        ]\n",
            " [344.06435284  17.82628423   1.        ]\n",
            " [257.24052307 158.03712683   1.        ]\n",
            " [ 41.48832038 -68.78765653   1.        ]\n",
            " [161.23024625 -29.87055773   1.        ]\n",
            " [189.63701275 -23.00935382   1.        ]]\n"
          ],
          "name": "stdout"
        }
      ]
    },
    {
      "cell_type": "markdown",
      "metadata": {
        "id": "_B6ieV5oh12-"
      },
      "source": [
        "TO DO: Make X and y from $d_1$ and $d_2$.\n",
        "* Combine $d_1$ and $d_2$ to make a 100x3 array $d$.\n",
        "* Shuffle the row of $d$ using np.random.shuffle().\n",
        "* Create a 100x2 array $X$ by the first two columns of $d$.\n",
        "* Create a single rank array $y$ by the last column of $d$.\n",
        "* Print the first 10 rows of X\n",
        "* Print the first 10 elements of y"
      ]
    },
    {
      "cell_type": "code",
      "metadata": {
        "id": "fNz7sm6cpBT7",
        "outputId": "22ec6d76-ab54-41a0-ecda-0b6afb514af1",
        "colab": {
          "base_uri": "https://localhost:8080/",
          "height": 210
        }
      },
      "source": [
        "d = np.concatenate((d1, d2),0)\n",
        "np.random.shuffle(d)\n",
        "\n",
        "X = d[:,:2]\n",
        "y = np.squeeze(d[:,2:3])\n",
        "\n",
        "print(\"X =\", X[:10,:])\n",
        "print(\"y =\", y[:10])"
      ],
      "execution_count": null,
      "outputs": [
        {
          "output_type": "stream",
          "text": [
            "X = [[  4.99052932  21.19180388]\n",
            " [335.28798028  72.71503033]\n",
            " [ 19.18211324 -82.4172931 ]\n",
            " [151.5509172  196.14291664]\n",
            " [125.09790647 248.50314149]\n",
            " [257.24052307 158.03712683]\n",
            " [170.46121082 -59.66050965]\n",
            " [305.52197828 104.65034349]\n",
            " [277.312394   335.01132799]\n",
            " [ 59.68092879 -28.41599808]]\n",
            "y = [0. 1. 1. 0. 0. 1. 1. 1. 0. 1.]\n"
          ],
          "name": "stdout"
        }
      ]
    },
    {
      "cell_type": "markdown",
      "metadata": {
        "id": "KuSV1_MmjVoh"
      },
      "source": [
        "TO DO: Draw scatter chart using mglearn.discrete_scatter()"
      ]
    },
    {
      "cell_type": "code",
      "metadata": {
        "id": "CJVYLW3yuDD5",
        "outputId": "be5404d7-9d86-43a8-c2d9-2d61045e645f",
        "colab": {
          "base_uri": "https://localhost:8080/",
          "height": 300
        }
      },
      "source": [
        "mglearn.discrete_scatter(X[:, 0], X[:, 1],y )"
      ],
      "execution_count": null,
      "outputs": [
        {
          "output_type": "execute_result",
          "data": {
            "text/plain": [
              "[<matplotlib.lines.Line2D at 0x7f2345f2b6a0>,\n",
              " <matplotlib.lines.Line2D at 0x7f2345f2b7b8>]"
            ]
          },
          "metadata": {
            "tags": []
          },
          "execution_count": 69
        },
        {
          "output_type": "display_data",
          "data": {
            "image/png": "[encoded data removed]",
            "text/plain": [
              "<Figure size 432x288 with 1 Axes>"
            ]
          },
          "metadata": {
            "tags": [],
            "needs_background": "light"
          }
        }
      ]
    },
    {
      "cell_type": "markdown",
      "metadata": {
        "id": "DbAVABpskiaJ"
      },
      "source": [
        "TO DO: split X and y into a training set and a test set using train_test_split()"
      ]
    },
    {
      "cell_type": "code",
      "metadata": {
        "id": "0cfer07ekAcA"
      },
      "source": [
        "from sklearn.model_selection import train_test_split\n",
        "\n",
        "X_train, X_test, y_train, y_test = train_test_split(X, y)"
      ],
      "execution_count": null,
      "outputs": []
    },
    {
      "cell_type": "markdown",
      "metadata": {
        "id": "OVZ4KmGSj4RL"
      },
      "source": [
        "TO DO: Create a LogisticRegression object and train with the training samples"
      ]
    },
    {
      "cell_type": "code",
      "metadata": {
        "id": "OSz-YBj4_Ehk"
      },
      "source": [
        "from sklearn.linear_model import LogisticRegression\n",
        "logi_reg = LogisticRegression().fit(X_train,y_train)"
      ],
      "execution_count": null,
      "outputs": []
    },
    {
      "cell_type": "markdown",
      "metadata": {
        "id": "HpYHq2gTkxSB"
      },
      "source": [
        "TO DO: Compare the predicted values with the ground truth values.\n",
        "* Predict y of the test input samples (e.g., X_test) using the LogisticRegression object\n",
        "* Compare the predicted values and the groud truth values as the output example."
      ]
    },
    {
      "cell_type": "code",
      "metadata": {
        "id": "TC53bYKf2in3",
        "outputId": "b4748b6c-a494-4c3f-87f5-7495dc48ddb4",
        "colab": {
          "base_uri": "https://localhost:8080/",
          "height": 457
        }
      },
      "source": [
        "y_pred = logi_reg.predict(X_test)\n",
        "\n",
        "for p, t in zip(y_pred, y_test):\n",
        "    print( \"{} vs {} (match = {})\".format(p, t, p==t))\n"
      ],
      "execution_count": null,
      "outputs": [
        {
          "output_type": "stream",
          "text": [
            "1.0 vs 0.0 (match = False)\n",
            "1.0 vs 1.0 (match = True)\n",
            "1.0 vs 1.0 (match = True)\n",
            "1.0 vs 1.0 (match = True)\n",
            "0.0 vs 0.0 (match = True)\n",
            "1.0 vs 1.0 (match = True)\n",
            "0.0 vs 0.0 (match = True)\n",
            "0.0 vs 0.0 (match = True)\n",
            "1.0 vs 1.0 (match = True)\n",
            "0.0 vs 0.0 (match = True)\n",
            "1.0 vs 1.0 (match = True)\n",
            "0.0 vs 0.0 (match = True)\n",
            "1.0 vs 1.0 (match = True)\n",
            "0.0 vs 0.0 (match = True)\n",
            "1.0 vs 1.0 (match = True)\n",
            "1.0 vs 1.0 (match = True)\n",
            "1.0 vs 1.0 (match = True)\n",
            "0.0 vs 0.0 (match = True)\n",
            "0.0 vs 0.0 (match = True)\n",
            "0.0 vs 0.0 (match = True)\n",
            "0.0 vs 0.0 (match = True)\n",
            "1.0 vs 1.0 (match = True)\n",
            "0.0 vs 0.0 (match = True)\n",
            "0.0 vs 0.0 (match = True)\n",
            "1.0 vs 1.0 (match = True)\n"
          ],
          "name": "stdout"
        }
      ]
    },
    {
      "cell_type": "markdown",
      "metadata": {
        "id": "Ji92TUZjlhDq"
      },
      "source": [
        "TO DO: Print the training accuracy and test accuracy"
      ]
    },
    {
      "cell_type": "code",
      "metadata": {
        "id": "0Au_uU9lksSr",
        "outputId": "08678c0c-781e-4dbd-9b12-2d6093cc5af2",
        "colab": {
          "base_uri": "https://localhost:8080/",
          "height": 52
        }
      },
      "source": [
        "print(\"training accuracy = \", logi_reg.score(X_train, y_train))\n",
        "print(\"test accuracy = \", logi_reg.score(X_test, y_test))"
      ],
      "execution_count": null,
      "outputs": [
        {
          "output_type": "stream",
          "text": [
            "training accuracy =  0.9333333333333333\n",
            "test accuracy =  0.96\n"
          ],
          "name": "stdout"
        }
      ]
    },
    {
      "cell_type": "markdown",
      "metadata": {
        "id": "MOz9-pZ4kdWN"
      },
      "source": [
        "### Ridge regression"
      ]
    },
    {
      "cell_type": "markdown",
      "metadata": {
        "id": "n5A7iVEll-Mr"
      },
      "source": [
        "TO DO: Create input and output samples\n",
        "* Create a 100x1 array $X$ composed of 100 numbers from 0 to 100.\n",
        "* Create a 1D array $y$ from the 1st column of $X$ using the following formula: $y = (x-30)^2+100 + \\epsilon$, where $\\epsilon \\in N(0, 100^2)$.\n",
        "* Draw graph with X and y using plt.plot()"
      ]
    },
    {
      "cell_type": "code",
      "metadata": {
        "id": "PgDYSHD9cqyp",
        "outputId": "74e3f81f-f2e5-43c6-f76b-4fff3bd4733d",
        "colab": {
          "base_uri": "https://localhost:8080/",
          "height": 282
        }
      },
      "source": [
        "X = np.expand_dims(np.linspace(0,100,100), 1)\n",
        "\n",
        "y = np.zeros(100)\n",
        "a = np.squeeze(np.random.normal(0,100,1))\n",
        "\n",
        "for i in range(0,100):\n",
        "    y[i] = (X[i,0] -30)*(X[i,0] -30) + 100 + np.random.normal(0,100,1)\n",
        "\n",
        "plt.plot(X, y)\n",
        "#plt.plot(np.squeeze(X[:,:1]), y)\n",
        "#plt.show()"
      ],
      "execution_count": null,
      "outputs": [
        {
          "output_type": "execute_result",
          "data": {
            "text/plain": [
              "[<matplotlib.lines.Line2D at 0x7f2343d664a8>]"
            ]
          },
          "metadata": {
            "tags": []
          },
          "execution_count": 117
        },
        {
          "output_type": "display_data",
          "data": {
            "image/png": "[encoded data removed]",
            "text/plain": [
              "<Figure size 432x288 with 1 Axes>"
            ]
          },
          "metadata": {
            "tags": [],
            "needs_background": "light"
          }
        }
      ]
    },
    {
      "cell_type": "markdown",
      "metadata": {
        "id": "Zf1bmT3VnMgR"
      },
      "source": [
        "TO DO: Create an object of Ridge and train it with $X$ and $y$."
      ]
    },
    {
      "cell_type": "code",
      "metadata": {
        "id": "3ek2rkohcSmf"
      },
      "source": [
        "from sklearn.linear_model import Ridge\n",
        "\n",
        "ridge = Ridge().fit(X, y)  "
      ],
      "execution_count": null,
      "outputs": []
    },
    {
      "cell_type": "markdown",
      "metadata": {
        "id": "BARkjVwtnX74"
      },
      "source": [
        "TO DO: Plot $X$, $y$ and the prediction of Ridge from $X$."
      ]
    },
    {
      "cell_type": "code",
      "metadata": {
        "id": "ifFs-LgZdpXz",
        "outputId": "d770cab1-0c03-44c0-d97f-53d47c5d6426",
        "colab": {
          "base_uri": "https://localhost:8080/",
          "height": 282
        }
      },
      "source": [
        "plt.plot(X, y)\n",
        "plt.plot(X,ridge.predict(X))"
      ],
      "execution_count": null,
      "outputs": [
        {
          "output_type": "execute_result",
          "data": {
            "text/plain": [
              "[<matplotlib.lines.Line2D at 0x7f2343cf83c8>]"
            ]
          },
          "metadata": {
            "tags": []
          },
          "execution_count": 119
        },
        {
          "output_type": "display_data",
          "data": {
            "image/png": "[encoded data removed]",
            "text/plain": [
              "<Figure size 432x288 with 1 Axes>"
            ]
          },
          "metadata": {
            "tags": [],
            "needs_background": "light"
          }
        }
      ]
    },
    {
      "cell_type": "markdown",
      "metadata": {
        "id": "G_EZtzSgr5pp"
      },
      "source": [
        "### Polynomial regression"
      ]
    },
    {
      "cell_type": "markdown",
      "metadata": {
        "id": "FmyVaZUkp92O"
      },
      "source": [
        "TO DO: Create a 100x2 array $X_2$ derived from $X$.\n",
        "* The first column is the same as $X$.\n",
        "* The second column is composed of $X[i,0]^2$'s.\n",
        "* Print the first 10 rows of $X_2$."
      ]
    },
    {
      "cell_type": "code",
      "metadata": {
        "id": "eR9WERgU_PBk",
        "outputId": "644da32f-ecca-41ae-f87d-061a5c6a6101",
        "colab": {
          "base_uri": "https://localhost:8080/",
          "height": 193
        }
      },
      "source": [
        "X2 = np.concatenate((X,np.multiply(X,X)),1)\n",
        "\n",
        "print(X2[:10,:])\n"
      ],
      "execution_count": null,
      "outputs": [
        {
          "output_type": "stream",
          "text": [
            "[[ 0.          0.        ]\n",
            " [ 1.01010101  1.02030405]\n",
            " [ 2.02020202  4.0812162 ]\n",
            " [ 3.03030303  9.18273646]\n",
            " [ 4.04040404 16.32486481]\n",
            " [ 5.05050505 25.50760127]\n",
            " [ 6.06060606 36.73094582]\n",
            " [ 7.07070707 49.99489848]\n",
            " [ 8.08080808 65.29945924]\n",
            " [ 9.09090909 82.6446281 ]]\n"
          ],
          "name": "stdout"
        }
      ]
    },
    {
      "cell_type": "markdown",
      "metadata": {
        "id": "bS5vwWnKqlqY"
      },
      "source": [
        "To DO: Create another Ridge object and training it with $X_2$ and $y$"
      ]
    },
    {
      "cell_type": "code",
      "metadata": {
        "id": "x5bAnuU8pbPy"
      },
      "source": [
        "ridge2 = Ridge().fit(X2, y) "
      ],
      "execution_count": null,
      "outputs": []
    },
    {
      "cell_type": "markdown",
      "metadata": {
        "id": "XuvOrBphrc7f"
      },
      "source": [
        "TO DO: Plot $X_2[:,0]$, $y$ and the prediction of Ridge from $X_2$."
      ]
    },
    {
      "cell_type": "code",
      "metadata": {
        "id": "D6cXMMaWpwPa",
        "outputId": "8c3f0bc9-a3c0-412e-ff9c-971631c6ede9",
        "colab": {
          "base_uri": "https://localhost:8080/",
          "height": 282
        }
      },
      "source": [
        "plt.plot(X2[:,0], y)\n",
        "plt.plot(X2[:,0],ridge2.predict(X2))"
      ],
      "execution_count": null,
      "outputs": [
        {
          "output_type": "execute_result",
          "data": {
            "text/plain": [
              "[<matplotlib.lines.Line2D at 0x7f2344034ef0>]"
            ]
          },
          "metadata": {
            "tags": []
          },
          "execution_count": 129
        },
        {
          "output_type": "display_data",
          "data": {
            "image/png": "[encoded data removed]",
            "text/plain": [
              "<Figure size 432x288 with 1 Axes>"
            ]
          },
          "metadata": {
            "tags": [],
            "needs_background": "light"
          }
        }
      ]
    },
    {
      "cell_type": "code",
      "metadata": {
        "id": "rbSWhfUqp43c"
      },
      "source": [
        ""
      ],
      "execution_count": null,
      "outputs": []
    }
  ]
}