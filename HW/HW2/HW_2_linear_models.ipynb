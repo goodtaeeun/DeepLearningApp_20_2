{
  "nbformat": 4,
  "nbformat_minor": 0,
  "metadata": {
    "colab": {
      "name": "HW#2_linear_models.ipynb",
      "provenance": [],
      "collapsed_sections": []
    },
    "kernelspec": {
      "name": "python3",
      "display_name": "Python 3"
    }
  },
  "cells": [
    {
      "cell_type": "code",
      "metadata": {
        "id": "mq2U3jlEzhgM",
        "colab_type": "code",
        "colab": {
          "base_uri": "https://localhost:8080/",
          "height": 317
        },
        "outputId": "57770005-2e4a-43f6-b80e-9759007ed514"
      },
      "source": [
        "import random\n",
        "import numpy as np\n",
        "import sklearn as sk\n",
        "import matplotlib.pyplot as plt\n",
        "\n",
        "!pip install mglearn\n",
        "import mglearn"
      ],
      "execution_count": null,
      "outputs": [
        {
          "output_type": "stream",
          "text": [
            "Requirement already satisfied: mglearn in /usr/local/lib/python3.6/dist-packages (0.1.9)\n",
            "Requirement already satisfied: cycler in /usr/local/lib/python3.6/dist-packages (from mglearn) (0.10.0)\n",
            "Requirement already satisfied: pillow in /usr/local/lib/python3.6/dist-packages (from mglearn) (7.0.0)\n",
            "Requirement already satisfied: matplotlib in /usr/local/lib/python3.6/dist-packages (from mglearn) (3.2.2)\n",
            "Requirement already satisfied: joblib in /usr/local/lib/python3.6/dist-packages (from mglearn) (0.16.0)\n",
            "Requirement already satisfied: imageio in /usr/local/lib/python3.6/dist-packages (from mglearn) (2.4.1)\n",
            "Requirement already satisfied: pandas in /usr/local/lib/python3.6/dist-packages (from mglearn) (1.0.5)\n",
            "Requirement already satisfied: scikit-learn in /usr/local/lib/python3.6/dist-packages (from mglearn) (0.22.2.post1)\n",
            "Requirement already satisfied: numpy in /usr/local/lib/python3.6/dist-packages (from mglearn) (1.18.5)\n",
            "Requirement already satisfied: six in /usr/local/lib/python3.6/dist-packages (from cycler->mglearn) (1.15.0)\n",
            "Requirement already satisfied: python-dateutil>=2.1 in /usr/local/lib/python3.6/dist-packages (from matplotlib->mglearn) (2.8.1)\n",
            "Requirement already satisfied: pyparsing!=2.0.4,!=2.1.2,!=2.1.6,>=2.0.1 in /usr/local/lib/python3.6/dist-packages (from matplotlib->mglearn) (2.4.7)\n",
            "Requirement already satisfied: kiwisolver>=1.0.1 in /usr/local/lib/python3.6/dist-packages (from matplotlib->mglearn) (1.2.0)\n",
            "Requirement already satisfied: pytz>=2017.2 in /usr/local/lib/python3.6/dist-packages (from pandas->mglearn) (2018.9)\n",
            "Requirement already satisfied: scipy>=0.17.0 in /usr/local/lib/python3.6/dist-packages (from scikit-learn->mglearn) (1.4.1)\n"
          ],
          "name": "stdout"
        }
      ]
    },
    {
      "cell_type": "markdown",
      "metadata": {
        "id": "R8xBOFkal5mc",
        "colab_type": "text"
      },
      "source": [
        "## Logistic Regression"
      ]
    },
    {
      "cell_type": "markdown",
      "metadata": {
        "id": "UzyJaNAgeLmV",
        "colab_type": "text"
      },
      "source": [
        "TO DO: define two functions GetClass1(X) and GetClass2(X)\n",
        "\n",
        "* GetClass1(X) returns (X * 0.5 + np.abs(np.sin(X * np.pi / 180)) * 180 + np.random.normal(0, 30, len(X)))\n",
        "* GetClass2(X) returns (X * 0.5 + 50 - np.abs(np.cos(X * np.pi / 180)) * 180 + np.random.normal(0, 30, len(X)))\n"
      ]
    },
    {
      "cell_type": "code",
      "metadata": {
        "id": "hZTqwAY2QFRH",
        "colab_type": "code",
        "colab": {}
      },
      "source": [
        ""
      ],
      "execution_count": null,
      "outputs": []
    },
    {
      "cell_type": "markdown",
      "metadata": {
        "id": "r3HMkcy1edaD",
        "colab_type": "text"
      },
      "source": [
        "TO DO:\n",
        "* Set random seed by 12 using np.random.seed()\n",
        "* Create an array composed of 100 numbers from 0 to 360\n",
        "* Draw plot using X and GetClass1(X)\n",
        "* Draw plot using X and GetClass2(X)"
      ]
    },
    {
      "cell_type": "code",
      "metadata": {
        "id": "WalPXBHg0r9q",
        "colab_type": "code",
        "colab": {
          "base_uri": "https://localhost:8080/",
          "height": 284
        },
        "outputId": "b6e4f1d5-f44a-4abf-fc9f-f1364f0bdd56"
      },
      "source": [
        ""
      ],
      "execution_count": null,
      "outputs": [
        {
          "output_type": "execute_result",
          "data": {
            "text/plain": [
              "[<matplotlib.lines.Line2D at 0x7f820e27e5f8>]"
            ]
          },
          "metadata": {
            "tags": []
          },
          "execution_count": 3
        },
        {
          "output_type": "display_data",
          "data": {
            "image/png": "[encoded data removed]",
            "text/plain": [
              "<Figure size 432x288 with 1 Axes>"
            ]
          },
          "metadata": {
            "tags": [],
            "needs_background": "light"
          }
        }
      ]
    },
    {
      "cell_type": "markdown",
      "metadata": {
        "id": "1jyoWlHDfSgE",
        "colab_type": "text"
      },
      "source": [
        "TO DO: Create class 1 samples\n",
        "* Create an array $x_{11}$ composed of 50 random numbers between 0 and 360.\n",
        "* Create an array $x_{12}$ by GetClass1($x_{11}$).\n",
        "* Create an array $y_1$ of size 50 filled with zeros.\n",
        "* Combine $x_{11}$, $x_{12}$ and $y_1$ to make a 50x3 array $d_1$. (Use np.expand_dims() and np.concatenate().)\n",
        "* print the first 10 rows of $d_1$"
      ]
    },
    {
      "cell_type": "code",
      "metadata": {
        "id": "mcDUtreZ2Wz1",
        "colab_type": "code",
        "colab": {
          "base_uri": "https://localhost:8080/",
          "height": 204
        },
        "outputId": "7c2e426b-efa3-493a-f7f3-e875de02b1e1"
      },
      "source": [
        ""
      ],
      "execution_count": null,
      "outputs": [
        {
          "output_type": "stream",
          "text": [
            "d1 =  [[ 13.658839    56.07105357   0.        ]\n",
            " [ 55.80406329 141.87970265   0.        ]\n",
            " [ 61.43364224  98.32685969   0.        ]\n",
            " [277.312394   335.01132799   0.        ]\n",
            " [ 86.11147478 232.58314643   0.        ]\n",
            " [268.9812314  282.27771924   0.        ]\n",
            " [125.09790647 248.50314149   0.        ]\n",
            " [238.03681255 269.16267577   0.        ]\n",
            " [235.63943994 252.1114025    0.        ]\n",
            " [ 83.87133944 191.99547334   0.        ]]\n"
          ],
          "name": "stdout"
        }
      ]
    },
    {
      "cell_type": "markdown",
      "metadata": {
        "id": "PAouMCjwg9yR",
        "colab_type": "text"
      },
      "source": [
        "TO DO: Create class 2 samples\n",
        "* Create an array $x_{21}$ composed of 50 random numbers between 0 and 360.\n",
        "* Create an array $x_{22}$ by GetClass2($x_{21}$).\n",
        "* Create an array $y_2$ of size 50 filled with ones.\n",
        "* Combine $x_{21}$, $x_{22}$ and $y_2$ to make a 50x3 array $d_2$. (Use np.expand_dims() and np.concatenate().)\n",
        "* print the first 10 rows of $d_2$"
      ]
    },
    {
      "cell_type": "code",
      "metadata": {
        "id": "iBKqAxf5fZT6",
        "colab_type": "code",
        "colab": {
          "base_uri": "https://localhost:8080/",
          "height": 204
        },
        "outputId": "437582bd-3207-4195-ebac-12e7da61c309"
      },
      "source": [
        ""
      ],
      "execution_count": null,
      "outputs": [
        {
          "output_type": "stream",
          "text": [
            "d2 =  [[202.11365676  -4.40781031   1.        ]\n",
            " [ 37.11143784 -80.78783649   1.        ]\n",
            " [112.07735169  22.29304467   1.        ]\n",
            " [290.47736536 158.97892151   1.        ]\n",
            " [174.97262355 -53.99433601   1.        ]\n",
            " [344.06435284  17.82628423   1.        ]\n",
            " [257.24052307 158.03712683   1.        ]\n",
            " [ 41.48832038 -68.78765653   1.        ]\n",
            " [161.23024625 -29.87055773   1.        ]\n",
            " [189.63701275 -23.00935382   1.        ]]\n"
          ],
          "name": "stdout"
        }
      ]
    },
    {
      "cell_type": "markdown",
      "metadata": {
        "id": "_B6ieV5oh12-",
        "colab_type": "text"
      },
      "source": [
        "TO DO: Make X and y from $d_1$ and $d_2$.\n",
        "* Combine $d_1$ and $d_2$ to make a 100x3 array $d$.\n",
        "* Shuffle the row of $d$ using np.random.shuffle().\n",
        "* Create a 100x2 array $X$ by the first two columns of $d$.\n",
        "* Create a single rank array $y$ by the last column of $d$.\n",
        "* Print the first 10 rows of X\n",
        "* Print the first 10 elements of y"
      ]
    },
    {
      "cell_type": "code",
      "metadata": {
        "id": "Ak16o66f_v4c",
        "colab_type": "code",
        "colab": {
          "base_uri": "https://localhost:8080/",
          "height": 223
        },
        "outputId": "77c11195-47bb-409c-84a7-43ee311c816e"
      },
      "source": [
        ""
      ],
      "execution_count": null,
      "outputs": [
        {
          "output_type": "stream",
          "text": [
            "X =  [[  4.99052932  21.19180388]\n",
            " [335.28798028  72.71503033]\n",
            " [ 19.18211324 -82.4172931 ]\n",
            " [151.5509172  196.14291664]\n",
            " [125.09790647 248.50314149]\n",
            " [257.24052307 158.03712683]\n",
            " [170.46121082 -59.66050965]\n",
            " [305.52197828 104.65034349]\n",
            " [277.312394   335.01132799]\n",
            " [ 59.68092879 -28.41599808]]\n",
            "y =  [0. 1. 1. 0. 0. 1. 1. 1. 0. 1.]\n"
          ],
          "name": "stdout"
        }
      ]
    },
    {
      "cell_type": "markdown",
      "metadata": {
        "id": "KuSV1_MmjVoh",
        "colab_type": "text"
      },
      "source": [
        "TO DO: Draw scatter chart using mglearn.discrete_scatter()"
      ]
    },
    {
      "cell_type": "code",
      "metadata": {
        "id": "3xaellZh2f1G",
        "colab_type": "code",
        "colab": {
          "base_uri": "https://localhost:8080/",
          "height": 303
        },
        "outputId": "ce1bde37-4038-4ed0-8247-dc0f94720506"
      },
      "source": [
        ""
      ],
      "execution_count": null,
      "outputs": [
        {
          "output_type": "execute_result",
          "data": {
            "text/plain": [
              "[<matplotlib.lines.Line2D at 0x7f820db1beb8>,\n",
              " <matplotlib.lines.Line2D at 0x7f820db29080>]"
            ]
          },
          "metadata": {
            "tags": []
          },
          "execution_count": 7
        },
        {
          "output_type": "display_data",
          "data": {
            "image/png": "[encoded data removed]",
            "text/plain": [
              "<Figure size 432x288 with 1 Axes>"
            ]
          },
          "metadata": {
            "tags": [],
            "needs_background": "light"
          }
        }
      ]
    },
    {
      "cell_type": "markdown",
      "metadata": {
        "id": "DbAVABpskiaJ",
        "colab_type": "text"
      },
      "source": [
        "TO DO: split X and y into a training set and a test set using train_test_split()"
      ]
    },
    {
      "cell_type": "code",
      "metadata": {
        "id": "0cfer07ekAcA",
        "colab_type": "code",
        "colab": {}
      },
      "source": [
        ""
      ],
      "execution_count": null,
      "outputs": []
    },
    {
      "cell_type": "markdown",
      "metadata": {
        "id": "OVZ4KmGSj4RL",
        "colab_type": "text"
      },
      "source": [
        "TO DO: Create a LogisticRegression object and train with the training samples"
      ]
    },
    {
      "cell_type": "code",
      "metadata": {
        "id": "OSz-YBj4_Ehk",
        "colab_type": "code",
        "colab": {}
      },
      "source": [
        ""
      ],
      "execution_count": null,
      "outputs": []
    },
    {
      "cell_type": "markdown",
      "metadata": {
        "id": "HpYHq2gTkxSB",
        "colab_type": "text"
      },
      "source": [
        "TO DO: Compare the predicted values with the ground truth values.\n",
        "* Predict y of the test input samples (e.g., X_test) using the LogisticRegression object\n",
        "* Compare the predicted values and the groud truth values as the output example."
      ]
    },
    {
      "cell_type": "code",
      "metadata": {
        "id": "swAjmTb6Y_JP",
        "colab_type": "code",
        "colab": {
          "base_uri": "https://localhost:8080/",
          "height": 204
        },
        "outputId": "206848e4-2568-495d-d773-f6aea2a654ab"
      },
      "source": [
        ""
      ],
      "execution_count": null,
      "outputs": [
        {
          "output_type": "stream",
          "text": [
            "1.0 vs. 0.0  (match = False)\n",
            "1.0 vs. 1.0  (match = True)\n",
            "1.0 vs. 1.0  (match = True)\n",
            "1.0 vs. 1.0  (match = True)\n",
            "0.0 vs. 0.0  (match = True)\n",
            "1.0 vs. 1.0  (match = True)\n",
            "0.0 vs. 0.0  (match = True)\n",
            "0.0 vs. 0.0  (match = True)\n",
            "1.0 vs. 1.0  (match = True)\n",
            "0.0 vs. 0.0  (match = True)\n"
          ],
          "name": "stdout"
        }
      ]
    },
    {
      "cell_type": "markdown",
      "metadata": {
        "id": "Ji92TUZjlhDq",
        "colab_type": "text"
      },
      "source": [
        "TO DO: Print the training accuracy and test accuracy"
      ]
    },
    {
      "cell_type": "code",
      "metadata": {
        "id": "0Au_uU9lksSr",
        "colab_type": "code",
        "colab": {
          "base_uri": "https://localhost:8080/",
          "height": 55
        },
        "outputId": "3f3c3872-3cc2-4fc8-827d-46711ef16ab1"
      },
      "source": [
        ""
      ],
      "execution_count": null,
      "outputs": [
        {
          "output_type": "stream",
          "text": [
            "training accuracy =  0.9333333333333333\n",
            "test accuracy =  0.96\n"
          ],
          "name": "stdout"
        }
      ]
    },
    {
      "cell_type": "markdown",
      "metadata": {
        "id": "MOz9-pZ4kdWN",
        "colab_type": "text"
      },
      "source": [
        "### Ridge regression"
      ]
    },
    {
      "cell_type": "markdown",
      "metadata": {
        "id": "n5A7iVEll-Mr",
        "colab_type": "text"
      },
      "source": [
        "TO DO: Create input and output samples\n",
        "* Create a 100x1 array $X$ composed of 100 numbers from 0 to 100.\n",
        "* Create a 1D array $y$ from the 1st column of $X$ using the following formula: $y = (x-30)^2+100 + \\epsilon$, where $\\epsilon \\in N(0, 100^2)$.\n",
        "* Draw graph with X and y using plt.plot()"
      ]
    },
    {
      "cell_type": "code",
      "metadata": {
        "id": "QZkwQgRkZUXR",
        "colab_type": "code",
        "colab": {
          "base_uri": "https://localhost:8080/",
          "height": 284
        },
        "outputId": "c260627e-07fb-480e-aa07-31b4fa591643"
      },
      "source": [
        ""
      ],
      "execution_count": null,
      "outputs": [
        {
          "output_type": "execute_result",
          "data": {
            "text/plain": [
              "[<matplotlib.lines.Line2D at 0x7f820daea160>]"
            ]
          },
          "metadata": {
            "tags": []
          },
          "execution_count": 12
        },
        {
          "output_type": "display_data",
          "data": {
            "image/png": "[encoded data removed]",
            "text/plain": [
              "<Figure size 432x288 with 1 Axes>"
            ]
          },
          "metadata": {
            "tags": [],
            "needs_background": "light"
          }
        }
      ]
    },
    {
      "cell_type": "markdown",
      "metadata": {
        "id": "Zf1bmT3VnMgR",
        "colab_type": "text"
      },
      "source": [
        "TO DO: Create an object of Ridge and train it with $X$ and $y$."
      ]
    },
    {
      "cell_type": "code",
      "metadata": {
        "id": "3ek2rkohcSmf",
        "colab_type": "code",
        "colab": {}
      },
      "source": [
        ""
      ],
      "execution_count": null,
      "outputs": []
    },
    {
      "cell_type": "markdown",
      "metadata": {
        "id": "BARkjVwtnX74",
        "colab_type": "text"
      },
      "source": [
        "TO DO: Plot $X$, $y$ and the prediction of Ridge from $X$."
      ]
    },
    {
      "cell_type": "code",
      "metadata": {
        "id": "ifFs-LgZdpXz",
        "colab_type": "code",
        "colab": {
          "base_uri": "https://localhost:8080/",
          "height": 284
        },
        "outputId": "dfd5bc64-5187-4145-ac2f-54df403cc536"
      },
      "source": [
        ""
      ],
      "execution_count": null,
      "outputs": [
        {
          "output_type": "execute_result",
          "data": {
            "text/plain": [
              "[<matplotlib.lines.Line2D at 0x7f820dadd4e0>]"
            ]
          },
          "metadata": {
            "tags": []
          },
          "execution_count": 14
        },
        {
          "output_type": "display_data",
          "data": {
            "image/png": "[encoded data removed]",
            "text/plain": [
              "<Figure size 432x288 with 1 Axes>"
            ]
          },
          "metadata": {
            "tags": [],
            "needs_background": "light"
          }
        }
      ]
    },
    {
      "cell_type": "markdown",
      "metadata": {
        "id": "G_EZtzSgr5pp",
        "colab_type": "text"
      },
      "source": [
        "### Polynomial regression"
      ]
    },
    {
      "cell_type": "markdown",
      "metadata": {
        "id": "FmyVaZUkp92O",
        "colab_type": "text"
      },
      "source": [
        "TO DO: Create a 100x2 array $X_2$ derived from $X$.\n",
        "* The first column is the same as $X$.\n",
        "* The second column is composed of $X[i,0]^2$'s.\n",
        "* Print the first 10 rows of $X_2$."
      ]
    },
    {
      "cell_type": "code",
      "metadata": {
        "id": "wR9Jy6nbpCUl",
        "colab_type": "code",
        "colab": {
          "base_uri": "https://localhost:8080/",
          "height": 204
        },
        "outputId": "6baaf2a2-c81e-4e58-bac2-c80f7d33ff07"
      },
      "source": [
        ""
      ],
      "execution_count": null,
      "outputs": [
        {
          "output_type": "stream",
          "text": [
            "[[ 0.          0.        ]\n",
            " [ 1.01010101  1.02030405]\n",
            " [ 2.02020202  4.0812162 ]\n",
            " [ 3.03030303  9.18273646]\n",
            " [ 4.04040404 16.32486481]\n",
            " [ 5.05050505 25.50760127]\n",
            " [ 6.06060606 36.73094582]\n",
            " [ 7.07070707 49.99489848]\n",
            " [ 8.08080808 65.29945924]\n",
            " [ 9.09090909 82.6446281 ]]\n"
          ],
          "name": "stdout"
        }
      ]
    },
    {
      "cell_type": "markdown",
      "metadata": {
        "id": "bS5vwWnKqlqY",
        "colab_type": "text"
      },
      "source": [
        "To DO: Create another Ridge object and training it with $X_2$ and $y$"
      ]
    },
    {
      "cell_type": "code",
      "metadata": {
        "id": "x5bAnuU8pbPy",
        "colab_type": "code",
        "colab": {}
      },
      "source": [
        ""
      ],
      "execution_count": null,
      "outputs": []
    },
    {
      "cell_type": "markdown",
      "metadata": {
        "id": "XuvOrBphrc7f",
        "colab_type": "text"
      },
      "source": [
        "TO DO: Plot $X_2[:,0]$, $y$ and the prediction of Ridge from $X_2$."
      ]
    },
    {
      "cell_type": "code",
      "metadata": {
        "id": "D6cXMMaWpwPa",
        "colab_type": "code",
        "colab": {
          "base_uri": "https://localhost:8080/",
          "height": 284
        },
        "outputId": "4afebf0c-ca5d-4e45-9505-f1e1cf3b7cba"
      },
      "source": [
        ""
      ],
      "execution_count": null,
      "outputs": [
        {
          "output_type": "execute_result",
          "data": {
            "text/plain": [
              "[<matplotlib.lines.Line2D at 0x7f820da33668>]"
            ]
          },
          "metadata": {
            "tags": []
          },
          "execution_count": 17
        },
        {
          "output_type": "display_data",
          "data": {
            "image/png": "[encoded data removed]",
            "text/plain": [
              "<Figure size 432x288 with 1 Axes>"
            ]
          },
          "metadata": {
            "tags": [],
            "needs_background": "light"
          }
        }
      ]
    },
    {
      "cell_type": "code",
      "metadata": {
        "id": "rbSWhfUqp43c",
        "colab_type": "code",
        "colab": {}
      },
      "source": [
        ""
      ],
      "execution_count": null,
      "outputs": []
    }
  ]
}