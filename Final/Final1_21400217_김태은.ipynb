{
  "nbformat": 4,
  "nbformat_minor": 0,
  "metadata": {
    "accelerator": "GPU",
    "colab": {
      "name": "Final1_21400217_김태은",
      "provenance": [],
      "collapsed_sections": []
    },
    "kernelspec": {
      "display_name": "Python 3",
      "name": "python3"
    }
  },
  "cells": [
    {
      "cell_type": "code",
      "metadata": {
        "colab": {
          "base_uri": "https://localhost:8080/"
        },
        "id": "z437WWDxhLjG",
        "outputId": "56753a5d-91ce-4fe9-9eb2-80d2f967e4df"
      },
      "source": [
        "import numpy as np\r\n",
        "\r\n",
        "from sklearn.model_selection import train_test_split\r\n",
        "\r\n",
        "from sklearn.neural_network import MLPClassifier\r\n",
        "import matplotlib.pyplot as plt\r\n",
        "\r\n",
        "!pip install mglearn\r\n",
        "import mglearn"
      ],
      "execution_count": 310,
      "outputs": [
        {
          "output_type": "stream",
          "text": [
            "Requirement already satisfied: mglearn in /usr/local/lib/python3.6/dist-packages (0.1.9)\n",
            "Requirement already satisfied: scikit-learn in /usr/local/lib/python3.6/dist-packages (from mglearn) (0.22.2.post1)\n",
            "Requirement already satisfied: pillow in /usr/local/lib/python3.6/dist-packages (from mglearn) (7.0.0)\n",
            "Requirement already satisfied: pandas in /usr/local/lib/python3.6/dist-packages (from mglearn) (1.1.5)\n",
            "Requirement already satisfied: cycler in /usr/local/lib/python3.6/dist-packages (from mglearn) (0.10.0)\n",
            "Requirement already satisfied: joblib in /usr/local/lib/python3.6/dist-packages (from mglearn) (1.0.0)\n",
            "Requirement already satisfied: imageio in /usr/local/lib/python3.6/dist-packages (from mglearn) (2.4.1)\n",
            "Requirement already satisfied: matplotlib in /usr/local/lib/python3.6/dist-packages (from mglearn) (3.2.2)\n",
            "Requirement already satisfied: numpy in /usr/local/lib/python3.6/dist-packages (from mglearn) (1.19.4)\n",
            "Requirement already satisfied: scipy>=0.17.0 in /usr/local/lib/python3.6/dist-packages (from scikit-learn->mglearn) (1.4.1)\n",
            "Requirement already satisfied: pytz>=2017.2 in /usr/local/lib/python3.6/dist-packages (from pandas->mglearn) (2018.9)\n",
            "Requirement already satisfied: python-dateutil>=2.7.3 in /usr/local/lib/python3.6/dist-packages (from pandas->mglearn) (2.8.1)\n",
            "Requirement already satisfied: six in /usr/local/lib/python3.6/dist-packages (from cycler->mglearn) (1.15.0)\n",
            "Requirement already satisfied: pyparsing!=2.0.4,!=2.1.2,!=2.1.6,>=2.0.1 in /usr/local/lib/python3.6/dist-packages (from matplotlib->mglearn) (2.4.7)\n",
            "Requirement already satisfied: kiwisolver>=1.0.1 in /usr/local/lib/python3.6/dist-packages (from matplotlib->mglearn) (1.3.1)\n"
          ],
          "name": "stdout"
        }
      ]
    },
    {
      "cell_type": "code",
      "metadata": {
        "id": "JJzXh2UgiQax"
      },
      "source": [
        ""
      ],
      "execution_count": 310,
      "outputs": []
    },
    {
      "cell_type": "markdown",
      "metadata": {
        "id": "YKUHPQobiQvA"
      },
      "source": [
        "## Prepare Dataset"
      ]
    },
    {
      "cell_type": "code",
      "metadata": {
        "id": "CEkbuwZFiTX9"
      },
      "source": [
        "import time\r\n",
        "np.random.seed(int (time.time())) \r\n",
        "\r\n",
        "\r\n",
        "one = np.concatenate((np.random.uniform(0, 1,10000).reshape((10000,1)), np.random.uniform(0, 1, 10000).reshape((10000,1)), np.zeros(10000).reshape((10000,1))), 1)\r\n",
        "two = np.concatenate((np.random.uniform(-1, 0, 10000).reshape((10000,1)), np.random.uniform(0, 1, 10000).reshape((10000,1)), np.ones(10000).reshape((10000,1))), 1)\r\n",
        "three = np.concatenate((np.random.uniform(-1, 0, 10000).reshape((10000,1)), np.random.uniform(-1, 0, 10000).reshape((10000,1)), np.zeros(10000).reshape((10000,1))), 1)\r\n",
        "four = np.concatenate((np.random.uniform(0, 1, 10000).reshape((10000,1)), np.random.uniform(-1, 0, 10000).reshape((10000,1)), np.ones(10000).reshape((10000,1))), 1)\r\n"
      ],
      "execution_count": 311,
      "outputs": []
    },
    {
      "cell_type": "code",
      "metadata": {
        "colab": {
          "base_uri": "https://localhost:8080/",
          "height": 269
        },
        "id": "nPeFLbP3wr9Q",
        "outputId": "23a10e18-50cd-4f9b-89be-933244b6bd76"
      },
      "source": [
        "plt.xlim(-1, 1)\r\n",
        "plt.ylim(-1, 1)\r\n",
        "\r\n",
        "scatter = plt.scatter(one[:,0], one[:,1], c='yellow')\r\n",
        "scatter = plt.scatter(two[:,0], two[:,1], c='purple')\r\n",
        "scatter = plt.scatter(three[:,0], three[:,1], c='yellow')\r\n",
        "scatter = plt.scatter(four[:,0], four[:,1], c='purple')\r\n",
        "\r\n",
        "plt.xticks(np.linspace(-1, 1, 9))\r\n",
        "plt.yticks(np.linspace(-1, 1, 9))\r\n",
        "\r\n",
        "plt.show()"
      ],
      "execution_count": 312,
      "outputs": [
        {
          "output_type": "display_data",
          "data": {
            "image/png": "[encoded data removed]",
            "text/plain": [
              "<Figure size 432x288 with 1 Axes>"
            ]
          },
          "metadata": {
            "tags": [],
            "needs_background": "light"
          }
        }
      ]
    },
    {
      "cell_type": "code",
      "metadata": {
        "id": "-BcVIJMPzgPQ"
      },
      "source": [
        "data = np.concatenate((one, two, three, four), 0)\r\n",
        "np.random.shuffle(data)\r\n",
        "\r\n",
        "X = data[:, :2]\r\n",
        "y = data[:, 2]\r\n",
        "\r\n",
        "X_train, X_test, y_train, y_test = train_test_split(X, y, random_state=42)"
      ],
      "execution_count": 313,
      "outputs": []
    },
    {
      "cell_type": "markdown",
      "metadata": {
        "id": "vQBASXp50jlt"
      },
      "source": [
        "## Design Model"
      ]
    },
    {
      "cell_type": "code",
      "metadata": {
        "colab": {
          "base_uri": "https://localhost:8080/"
        },
        "id": "37zv__fz0nr3",
        "outputId": "9b529c67-7894-4d08-c6e8-5f53608bf68e"
      },
      "source": [
        "from sklearn.neural_network import MLPClassifier\r\n",
        "\r\n",
        "mlp = MLPClassifier( solver='lbfgs', max_iter = 1000, hidden_layer_sizes=[12])\r\n",
        "mlp.fit(X_train, y_train)\r\n",
        "\r\n",
        "print(\"Training accuracy = \", mlp.score(X_train, y_train))\r\n",
        "print(\"Test Accuracy = \", mlp.score(X_test, y_test))\r\n",
        "\r\n"
      ],
      "execution_count": 314,
      "outputs": [
        {
          "output_type": "stream",
          "text": [
            "Training accuracy =  0.9997\n",
            "Test Accuracy =  0.9998\n"
          ],
          "name": "stdout"
        }
      ]
    },
    {
      "cell_type": "markdown",
      "metadata": {
        "id": "rrrqWwn1Lt2q"
      },
      "source": [
        "## Visualize lines"
      ]
    },
    {
      "cell_type": "code",
      "metadata": {
        "colab": {
          "base_uri": "https://localhost:8080/"
        },
        "id": "W3K5lJQzLtWn",
        "outputId": "49e70c28-978d-4910-c367-4f3be3849a58"
      },
      "source": [
        "x_coefs = mlp.coefs_[0][0]\r\n",
        "y_coefs = mlp.coefs_[0][1]\r\n",
        "intercepts = mlp.intercepts_[0]\r\n",
        "\r\n",
        "print(x_coefs)\r\n",
        "print(intercepts)\r\n",
        "\r\n",
        "\r\n"
      ],
      "execution_count": 315,
      "outputs": [
        {
          "output_type": "stream",
          "text": [
            "[ 4.20140903e+01 -1.96631326e+01 -6.03623386e-02 -8.32844271e+01\n",
            " -5.91309030e+01 -1.16890399e+02  3.39406355e+01  7.08645581e-02\n",
            " -1.70785282e+01 -1.21997982e+01 -2.91459734e-01  6.13131491e+00]\n",
            "[  2.07909175 -25.68565771  -0.64869487   1.42057322   4.48389951\n",
            "   1.44413631   1.23290823  -0.43317528   4.18205096  -1.98566041\n",
            "  -0.61048335  -9.04335292]\n"
          ],
          "name": "stdout"
        }
      ]
    },
    {
      "cell_type": "code",
      "metadata": {
        "colab": {
          "base_uri": "https://localhost:8080/",
          "height": 269
        },
        "id": "FMReRNzk2ZzT",
        "outputId": "0bda8bc2-e4ea-42e2-e30b-64dac7d7a02b"
      },
      "source": [
        "line = np.linspace(-1, 1)\r\n",
        "rang = np.arange(len(x_coefs))\r\n",
        "\r\n",
        "plt.xlim(-1, 1)\r\n",
        "plt.ylim(-1, 1)\r\n",
        "\r\n",
        "scatter = plt.scatter(one[:,0], one[:,1], c='yellow')\r\n",
        "scatter = plt.scatter(two[:,0], two[:,1], c='purple')\r\n",
        "scatter = plt.scatter(three[:,0], three[:,1], c='yellow')\r\n",
        "scatter = plt.scatter(four[:,0], four[:,1], c='purple')\r\n",
        "\r\n",
        "plt.xticks(np.linspace(-1, 1, 9))\r\n",
        "plt.yticks(np.linspace(-1, 1, 9))\r\n",
        "\r\n",
        "for i in range(6):\r\n",
        "    plt.plot(line, -(line * x_coefs[i] + intercepts[i]) / y_coefs[i], c='black')\r\n",
        "\r\n",
        "plt.show()\r\n",
        "\r\n"
      ],
      "execution_count": 316,
      "outputs": [
        {
          "output_type": "display_data",
          "data": {
            "image/png": "[encoded data removed]",
            "text/plain": [
              "<Figure size 432x288 with 1 Axes>"
            ]
          },
          "metadata": {
            "tags": [],
            "needs_background": "light"
          }
        }
      ]
    },
    {
      "cell_type": "code",
      "metadata": {
        "id": "l7xc4Rt4hB3y"
      },
      "source": [
        ""
      ],
      "execution_count": 316,
      "outputs": []
    }
  ]
}